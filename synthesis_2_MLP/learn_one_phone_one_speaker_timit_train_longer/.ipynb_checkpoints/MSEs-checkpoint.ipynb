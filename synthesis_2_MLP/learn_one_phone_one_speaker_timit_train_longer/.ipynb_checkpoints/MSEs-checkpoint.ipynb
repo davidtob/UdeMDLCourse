{
 "metadata": {
  "name": ""
 },
 "nbformat": 3,
 "nbformat_minor": 0,
 "worksheets": [
  {
   "cells": [
    {
     "cell_type": "code",
     "collapsed": false,
     "input": [
      "import pylearn2\n",
      "import theano\n",
      "import cPickle\n",
      "\n",
      "execfile('/nobackup_home/belius/Dropbox/matematik/educate thyself/UdeMDLCourse/synthesis_1_MLP/learn_one_phone_one_speaker_timit_train_longer/timit_data.py')    \n",
      "\n",
      "def sig_digits( x, digits ):\n",
      "    a = round(numpy.log10( x )-digits+1)\n",
      "    return round( x / 10**round(a ))*10**a\n",
      "\n",
      "\n",
      "def html_table( tbl ):\n",
      "    s = \"<table>\"\n",
      "    maxwidth = max( map( len, tbl) )\n",
      "    for row in tbl:\n",
      "        if len(row)==1:\n",
      "            s += \"<tr><td colspan=%d>\" % maxwidth\n",
      "            s += row[0]\n",
      "            s += \"</td></tr>\"\n",
      "        else:\n",
      "            s += \"<tr><td>\" + \"</td><td>\".join( row ) + \"</td></tr>\"\n",
      "    s += \"</table>\"\n",
      "    return s\n",
      "\n",
      "std = -1\n",
      "def compute_mse(speaker, modelnum, trainingrate ):\n",
      "    global std\n",
      "    try:\n",
      "        fp = open( \"%d/best%d-%s.pkl\"%(speaker,modelnum,trainingrate ) )\n",
      "        bestMLP = cPickle.load(fp)\n",
      "        fp.close()\n",
      "    except:\n",
      "        return None\n",
      "        \n",
      "    if bestMLP==None:        \n",
      "        return None\n",
      "    else:                \n",
      "        X = bestMLP.get_input_space().make_batch_theano()\n",
      "        Y = bestMLP.fprop(X)\n",
      "        f = theano.function( [X], Y )                \n",
      "        \n",
      "        fp = open(\"%d/model_spec_%d-%s.yaml\"%(speaker,modelnum,trainingrate ))\n",
      "        model = pylearn2.config.yaml_parse.load(fp)\n",
      "        fp.close()\n",
      "        dataset = model.dataset\n",
      "        \n",
      "        if std<0:\n",
      "            std = dataset.dataset_std()\n",
      "            \n",
      "        validmseraw = dataset.mse( 'valid', f( dataset.getset('valid')[0] ) )\n",
      "        validmsenorm = validmseraw/(std**2)\n",
      "        return validmsenorm\n",
      "    "
     ],
     "language": "python",
     "metadata": {},
     "outputs": [
      {
       "output_type": "stream",
       "stream": "stdout",
       "text": [
        "\n"
       ]
      }
     ],
     "prompt_number": 5
    },
    {
     "cell_type": "code",
     "collapsed": false,
     "input": [
      "#learnrates = [\"0.3\",\"0.1\"]\n",
      "learnrates = [\"3\",\"1\",\"0.3\",\"0.1\",\"0.03\",\"0.01\",\"0.003\",\"0.001\",\"0.0003\",\"0.0001\"]\n",
      "for speaker in [104]:#144,169,179]:\n",
      "    tbl = [[\"\"]+learnrates]\n",
      "    for modelnum in [2,9,13,14,16,21,22,28,29]:        \n",
      "        row = [ str(modelnum) ]\n",
      "        for trainingrate in learnrates:\n",
      "            print \"model\",modelnum,\"trainingrate\",trainingrate,\":\",\n",
      "            validmsenorm = compute_mse(speaker, modelnum, trainingrate )\n",
      "            if validmsenorm==None:\n",
      "                row.append( \"\" )\n",
      "            else:\n",
      "                row.append( str(sig_digits(validmsenorm,2)) )\n",
      "                print \"MSE:\", validmseraw, validmsenorm\n",
      "        tbl.append( row )\n",
      "\n",
      "from IPython.display import HTML\n",
      "HTML(html_table(tbl))"
     ],
     "language": "python",
     "metadata": {},
     "outputs": [
      {
       "output_type": "stream",
       "stream": "stdout",
       "text": [
        "model 2 trainingrate 3 : "
       ]
      },
      {
       "output_type": "stream",
       "stream": "stdout",
       "text": [
        "constructing frames 158084\n",
        "Have"
       ]
      },
      {
       "output_type": "stream",
       "stream": "stdout",
       "text": [
        " 6943 examples constructed\n",
        "Have"
       ]
      },
      {
       "output_type": "stream",
       "stream": "stdout",
       "text": [
        " 6943 examples constructed\n",
        "Done constructing"
       ]
      },
      {
       "output_type": "stream",
       "stream": "stdout",
       "text": [
        " 6942 examples\n",
        "constructing frames 158084\n",
        "Have"
       ]
      },
      {
       "output_type": "stream",
       "stream": "stdout",
       "text": [
        " 6943 examples constructed\n",
        "Have"
       ]
      },
      {
       "output_type": "stream",
       "stream": "stdout",
       "text": [
        " 6943 examples constructed\n",
        "Done constructing"
       ]
      },
      {
       "output_type": "stream",
       "stream": "stdout",
       "text": [
        " 6942 examples\n",
        "MSE:"
       ]
      },
      {
       "output_type": "stream",
       "stream": "stdout",
       "text": [
        " 866219.984311 410.142038026\n",
        "model 2 trainingrate 1 : "
       ]
      },
      {
       "output_type": "stream",
       "stream": "stdout",
       "text": [
        "constructing frames 158084\n",
        "Have"
       ]
      },
      {
       "output_type": "stream",
       "stream": "stdout",
       "text": [
        " 6943 examples constructed\n",
        "Have"
       ]
      },
      {
       "output_type": "stream",
       "stream": "stdout",
       "text": [
        " 6943 examples constructed\n",
        "Done constructing"
       ]
      },
      {
       "output_type": "stream",
       "stream": "stdout",
       "text": [
        " 6942 examples\n",
        "constructing frames 158084\n",
        "Have"
       ]
      },
      {
       "output_type": "stream",
       "stream": "stdout",
       "text": [
        " 6943 examples constructed\n",
        "Have"
       ]
      },
      {
       "output_type": "stream",
       "stream": "stdout",
       "text": [
        " 6943 examples constructed\n",
        "Done constructing"
       ]
      },
      {
       "output_type": "stream",
       "stream": "stdout",
       "text": [
        " 6942 examples\n",
        "MSE:"
       ]
      },
      {
       "output_type": "stream",
       "stream": "stdout",
       "text": [
        " 837530.729553 396.558110584\n",
        "model 2 trainingrate 0.3 : "
       ]
      },
      {
       "output_type": "stream",
       "stream": "stdout",
       "text": [
        "constructing frames 158084\n",
        "Have"
       ]
      },
      {
       "output_type": "stream",
       "stream": "stdout",
       "text": [
        " 6943 examples constructed\n",
        "Have"
       ]
      },
      {
       "output_type": "stream",
       "stream": "stdout",
       "text": [
        " 6943 examples constructed\n",
        "Done constructing"
       ]
      },
      {
       "output_type": "stream",
       "stream": "stdout",
       "text": [
        " 6942 examples\n",
        "constructing frames 158084\n",
        "Have"
       ]
      },
      {
       "output_type": "stream",
       "stream": "stdout",
       "text": [
        " 6943 examples constructed\n",
        "Have"
       ]
      },
      {
       "output_type": "stream",
       "stream": "stdout",
       "text": [
        " 6943 examples constructed\n",
        "Done constructing"
       ]
      },
      {
       "output_type": "stream",
       "stream": "stdout",
       "text": [
        " 6942 examples\n",
        "MSE:"
       ]
      },
      {
       "output_type": "stream",
       "stream": "stdout",
       "text": [
        " 155754.713743 73.7474970376\n",
        "model 2 trainingrate 0.1 : "
       ]
      },
      {
       "output_type": "stream",
       "stream": "stdout",
       "text": [
        "constructing frames 158084\n",
        "Have"
       ]
      },
      {
       "output_type": "stream",
       "stream": "stdout",
       "text": [
        " 6943 examples constructed\n",
        "Have"
       ]
      },
      {
       "output_type": "stream",
       "stream": "stdout",
       "text": [
        " 6943 examples constructed\n",
        "Done constructing"
       ]
      },
      {
       "output_type": "stream",
       "stream": "stdout",
       "text": [
        " 6942 examples\n",
        "constructing frames 158084\n",
        "Have"
       ]
      },
      {
       "output_type": "stream",
       "stream": "stdout",
       "text": [
        " 6943 examples constructed\n",
        "Have"
       ]
      },
      {
       "output_type": "stream",
       "stream": "stdout",
       "text": [
        " 6943 examples constructed\n",
        "Done constructing"
       ]
      },
      {
       "output_type": "stream",
       "stream": "stdout",
       "text": [
        " 6942 examples\n",
        "MSE:"
       ]
      },
      {
       "output_type": "stream",
       "stream": "stdout",
       "text": [
        " 140070.892288 66.3214452122\n",
        "model 2 trainingrate 0.03 : "
       ]
      },
      {
       "output_type": "stream",
       "stream": "stdout",
       "text": [
        "constructing frames 158084\n",
        "Have"
       ]
      },
      {
       "output_type": "stream",
       "stream": "stdout",
       "text": [
        " 6943 examples constructed\n",
        "Have"
       ]
      },
      {
       "output_type": "stream",
       "stream": "stdout",
       "text": [
        " 6943 examples constructed\n",
        "Done constructing"
       ]
      },
      {
       "output_type": "stream",
       "stream": "stdout",
       "text": [
        " 6942 examples\n",
        "constructing frames 158084\n",
        "Have"
       ]
      },
      {
       "output_type": "stream",
       "stream": "stdout",
       "text": [
        " 6943 examples constructed\n",
        "Have"
       ]
      },
      {
       "output_type": "stream",
       "stream": "stdout",
       "text": [
        " 6943 examples constructed\n",
        "Done constructing"
       ]
      },
      {
       "output_type": "stream",
       "stream": "stdout",
       "text": [
        " 6942 examples\n",
        "MSE:"
       ]
      },
      {
       "output_type": "stream",
       "stream": "stdout",
       "text": [
        " 141402.697992 66.9520350343\n",
        "model 2 trainingrate 0.01 : "
       ]
      },
      {
       "output_type": "stream",
       "stream": "stdout",
       "text": [
        "constructing frames 158084\n",
        "Have"
       ]
      },
      {
       "output_type": "stream",
       "stream": "stdout",
       "text": [
        " 6943 examples constructed\n",
        "Have"
       ]
      },
      {
       "output_type": "stream",
       "stream": "stdout",
       "text": [
        " 6943 examples constructed\n",
        "Done constructing"
       ]
      },
      {
       "output_type": "stream",
       "stream": "stdout",
       "text": [
        " 6942 examples\n",
        "constructing frames 158084\n",
        "Have"
       ]
      },
      {
       "output_type": "stream",
       "stream": "stdout",
       "text": [
        " 6943 examples constructed\n",
        "Have"
       ]
      },
      {
       "output_type": "stream",
       "stream": "stdout",
       "text": [
        " 6943 examples constructed\n",
        "Done constructing"
       ]
      },
      {
       "output_type": "stream",
       "stream": "stdout",
       "text": [
        " 6942 examples\n",
        "MSE:"
       ]
      },
      {
       "output_type": "stream",
       "stream": "stdout",
       "text": [
        " 143009.06356 67.7126247918\n",
        "model 2 trainingrate 0.003 : no model\n",
        "model 2 trainingrate 0.001 : "
       ]
      },
      {
       "output_type": "stream",
       "stream": "stdout",
       "text": [
        "no model\n",
        "model 2 trainingrate 0.0003 : no model\n",
        "model 2 trainingrate 0.0001 : no model\n",
        "model 9 trainingrate 3 : "
       ]
      },
      {
       "output_type": "stream",
       "stream": "stdout",
       "text": [
        "constructing frames 158084\n",
        "Have"
       ]
      },
      {
       "output_type": "stream",
       "stream": "stdout",
       "text": [
        " 5983 examples constructed\n",
        "Have"
       ]
      },
      {
       "output_type": "stream",
       "stream": "stdout",
       "text": [
        " 5983 examples constructed\n",
        "Done constructing"
       ]
      },
      {
       "output_type": "stream",
       "stream": "stdout",
       "text": [
        " 5982 examples\n",
        "constructing frames 158084\n",
        "Have"
       ]
      },
      {
       "output_type": "stream",
       "stream": "stdout",
       "text": [
        " 5983 examples constructed\n",
        "Have"
       ]
      },
      {
       "output_type": "stream",
       "stream": "stdout",
       "text": [
        " 5983 examples constructed\n",
        "Done constructing"
       ]
      },
      {
       "output_type": "stream",
       "stream": "stdout",
       "text": [
        " 5982 examples\n",
        "MSE: 1071659.08935 507.41434155\n",
        "model 9 trainingrate 1 : "
       ]
      },
      {
       "output_type": "stream",
       "stream": "stdout",
       "text": [
        "constructing frames 158084\n",
        "Have"
       ]
      },
      {
       "output_type": "stream",
       "stream": "stdout",
       "text": [
        " 5983 examples constructed\n",
        "Have"
       ]
      },
      {
       "output_type": "stream",
       "stream": "stdout",
       "text": [
        " 5983 examples constructed\n",
        "Done constructing"
       ]
      },
      {
       "output_type": "stream",
       "stream": "stdout",
       "text": [
        " 5982 examples\n",
        "constructing frames 158084\n",
        "Have"
       ]
      },
      {
       "output_type": "stream",
       "stream": "stdout",
       "text": [
        " 5983 examples constructed\n",
        "Have"
       ]
      },
      {
       "output_type": "stream",
       "stream": "stdout",
       "text": [
        " 5983 examples constructed\n",
        "Done constructing"
       ]
      },
      {
       "output_type": "stream",
       "stream": "stdout",
       "text": [
        " 5982 examples\n",
        "MSE: 1071659.08935 507.41434155\n",
        "model 9 trainingrate 0.3 : "
       ]
      },
      {
       "output_type": "stream",
       "stream": "stdout",
       "text": [
        "constructing frames 158084\n",
        "Have"
       ]
      },
      {
       "output_type": "stream",
       "stream": "stdout",
       "text": [
        " 5983 examples constructed\n",
        "Have"
       ]
      },
      {
       "output_type": "stream",
       "stream": "stdout",
       "text": [
        " 5983 examples constructed\n",
        "Done constructing"
       ]
      },
      {
       "output_type": "stream",
       "stream": "stdout",
       "text": [
        " 5982 examples\n",
        "constructing frames 158084\n",
        "Have"
       ]
      },
      {
       "output_type": "stream",
       "stream": "stdout",
       "text": [
        " 5983 examples constructed\n",
        "Have"
       ]
      },
      {
       "output_type": "stream",
       "stream": "stdout",
       "text": [
        " 5983 examples constructed\n",
        "Done constructing"
       ]
      },
      {
       "output_type": "stream",
       "stream": "stdout",
       "text": [
        " 5982 examples\n",
        "MSE: 26549.4976363 12.5707848657\n",
        "model 9 trainingrate 0.1 : "
       ]
      },
      {
       "output_type": "stream",
       "stream": "stdout",
       "text": [
        "constructing frames 158084\n",
        "Have"
       ]
      },
      {
       "output_type": "stream",
       "stream": "stdout",
       "text": [
        " 5983 examples constructed\n",
        "Have"
       ]
      },
      {
       "output_type": "stream",
       "stream": "stdout",
       "text": [
        " 5983 examples constructed\n",
        "Done constructing"
       ]
      },
      {
       "output_type": "stream",
       "stream": "stdout",
       "text": [
        " 5982 examples\n",
        "constructing frames 158084\n",
        "Have"
       ]
      },
      {
       "output_type": "stream",
       "stream": "stdout",
       "text": [
        " 5983 examples constructed\n",
        "Have"
       ]
      },
      {
       "output_type": "stream",
       "stream": "stdout",
       "text": [
        " 5983 examples constructed\n",
        "Done constructing"
       ]
      },
      {
       "output_type": "stream",
       "stream": "stdout",
       "text": [
        " 5982 examples\n",
        "MSE: 31603.3250938 14.9636955936\n",
        "model 9 trainingrate 0.03 : "
       ]
      },
      {
       "output_type": "stream",
       "stream": "stdout",
       "text": [
        "constructing frames 158084\n",
        "Have"
       ]
      },
      {
       "output_type": "stream",
       "stream": "stdout",
       "text": [
        " 5983 examples constructed\n",
        "Have"
       ]
      },
      {
       "output_type": "stream",
       "stream": "stdout",
       "text": [
        " 5983 examples constructed\n",
        "Done constructing"
       ]
      },
      {
       "output_type": "stream",
       "stream": "stdout",
       "text": [
        " 5982 examples\n",
        "constructing frames 158084\n",
        "Have"
       ]
      },
      {
       "output_type": "stream",
       "stream": "stdout",
       "text": [
        " 5983 examples constructed\n",
        "Have"
       ]
      },
      {
       "output_type": "stream",
       "stream": "stdout",
       "text": [
        " 5983 examples constructed\n",
        "Done constructing"
       ]
      },
      {
       "output_type": "stream",
       "stream": "stdout",
       "text": [
        " 5982 examples\n",
        "MSE: 36716.9666958 17.3849274128\n",
        "model 9 trainingrate 0.01 : "
       ]
      },
      {
       "output_type": "stream",
       "stream": "stdout",
       "text": [
        "constructing frames 158084\n",
        "Have"
       ]
      },
      {
       "output_type": "stream",
       "stream": "stdout",
       "text": [
        " 5983 examples constructed\n",
        "Have"
       ]
      },
      {
       "output_type": "stream",
       "stream": "stdout",
       "text": [
        " 5983 examples constructed\n",
        "Done constructing"
       ]
      },
      {
       "output_type": "stream",
       "stream": "stdout",
       "text": [
        " 5982 examples\n",
        "constructing frames 158084\n",
        "Have"
       ]
      },
      {
       "output_type": "stream",
       "stream": "stdout",
       "text": [
        " 5983 examples constructed\n",
        "Have"
       ]
      },
      {
       "output_type": "stream",
       "stream": "stdout",
       "text": [
        " 5983 examples constructed\n",
        "Done constructing"
       ]
      },
      {
       "output_type": "stream",
       "stream": "stdout",
       "text": [
        " 5982 examples\n",
        "MSE: 43406.6176795 20.5523757952\n",
        "model 9 trainingrate 0.003 : "
       ]
      },
      {
       "output_type": "stream",
       "stream": "stdout",
       "text": [
        "constructing frames 158084\n",
        "Have"
       ]
      },
      {
       "output_type": "stream",
       "stream": "stdout",
       "text": [
        " 5983 examples constructed\n",
        "Have"
       ]
      },
      {
       "output_type": "stream",
       "stream": "stdout",
       "text": [
        " 5983 examples constructed\n",
        "Done constructing"
       ]
      },
      {
       "output_type": "stream",
       "stream": "stdout",
       "text": [
        " 5982 examples\n",
        "constructing frames 158084\n",
        "Have"
       ]
      },
      {
       "output_type": "stream",
       "stream": "stdout",
       "text": [
        " 5983 examples constructed\n",
        "Have"
       ]
      },
      {
       "output_type": "stream",
       "stream": "stdout",
       "text": [
        " 5983 examples constructed\n",
        "Done constructing"
       ]
      },
      {
       "output_type": "stream",
       "stream": "stdout",
       "text": [
        " 5982 examples\n",
        "MSE: 65376.0471394 30.9545677744\n",
        "model 9 trainingrate 0.001 : "
       ]
      },
      {
       "output_type": "stream",
       "stream": "stdout",
       "text": [
        "constructing frames 158084\n",
        "Have"
       ]
      },
      {
       "output_type": "stream",
       "stream": "stdout",
       "text": [
        " 5983 examples constructed\n",
        "Have"
       ]
      },
      {
       "output_type": "stream",
       "stream": "stdout",
       "text": [
        " 5983 examples constructed\n",
        "Done constructing"
       ]
      },
      {
       "output_type": "stream",
       "stream": "stdout",
       "text": [
        " 5982 examples\n",
        "constructing frames 158084\n",
        "Have"
       ]
      },
      {
       "output_type": "stream",
       "stream": "stdout",
       "text": [
        " 5983 examples constructed\n",
        "Have"
       ]
      },
      {
       "output_type": "stream",
       "stream": "stdout",
       "text": [
        " 5983 examples constructed\n",
        "Done constructing"
       ]
      },
      {
       "output_type": "stream",
       "stream": "stdout",
       "text": [
        " 5982 examples\n",
        "MSE: 102499.115831 48.5317783289\n",
        "model 9 trainingrate 0.0003 : "
       ]
      },
      {
       "output_type": "stream",
       "stream": "stdout",
       "text": [
        "constructing frames 158084\n",
        "Have"
       ]
      },
      {
       "output_type": "stream",
       "stream": "stdout",
       "text": [
        " 5983 examples constructed\n",
        "Have"
       ]
      },
      {
       "output_type": "stream",
       "stream": "stdout",
       "text": [
        " 5983 examples constructed\n",
        "Done constructing"
       ]
      },
      {
       "output_type": "stream",
       "stream": "stdout",
       "text": [
        " 5982 examples\n",
        "constructing frames 158084\n",
        "Have"
       ]
      },
      {
       "output_type": "stream",
       "stream": "stdout",
       "text": [
        " 5983 examples constructed\n",
        "Have"
       ]
      },
      {
       "output_type": "stream",
       "stream": "stdout",
       "text": [
        " 5983 examples constructed\n",
        "Done constructing"
       ]
      },
      {
       "output_type": "stream",
       "stream": "stdout",
       "text": [
        " 5982 examples\n",
        "MSE: 275048.131154 130.231122705\n",
        "model 9 trainingrate 0.0001 : "
       ]
      },
      {
       "output_type": "stream",
       "stream": "stdout",
       "text": [
        "constructing frames 158084\n",
        "Have"
       ]
      },
      {
       "output_type": "stream",
       "stream": "stdout",
       "text": [
        " 5983 examples constructed\n",
        "Have"
       ]
      },
      {
       "output_type": "stream",
       "stream": "stdout",
       "text": [
        " 5983 examples constructed\n",
        "Done constructing"
       ]
      },
      {
       "output_type": "stream",
       "stream": "stdout",
       "text": [
        " 5982 examples\n",
        "constructing frames 158084\n",
        "Have"
       ]
      },
      {
       "output_type": "stream",
       "stream": "stdout",
       "text": [
        " 5983 examples constructed\n",
        "Have"
       ]
      },
      {
       "output_type": "stream",
       "stream": "stdout",
       "text": [
        " 5983 examples constructed\n",
        "Done constructing"
       ]
      },
      {
       "output_type": "stream",
       "stream": "stdout",
       "text": [
        " 5982 examples\n",
        "MSE: 306674.282058 145.205625975\n",
        "model 13 trainingrate 3 : "
       ]
      },
      {
       "output_type": "stream",
       "stream": "stdout",
       "text": [
        "constructing frames 158084\n",
        "Have"
       ]
      },
      {
       "output_type": "stream",
       "stream": "stdout",
       "text": [
        " 6613 examples constructed\n",
        "Have"
       ]
      },
      {
       "output_type": "stream",
       "stream": "stdout",
       "text": [
        " 6613 examples constructed\n",
        "Done constructing"
       ]
      },
      {
       "output_type": "stream",
       "stream": "stdout",
       "text": [
        " 6612 examples\n",
        "constructing frames 158084\n",
        "Have"
       ]
      },
      {
       "output_type": "stream",
       "stream": "stdout",
       "text": [
        " 6613 examples constructed\n",
        "Have"
       ]
      },
      {
       "output_type": "stream",
       "stream": "stdout",
       "text": [
        " 6613 examples constructed\n",
        "Done constructing"
       ]
      },
      {
       "output_type": "stream",
       "stream": "stdout",
       "text": [
        " 6612 examples\n",
        "MSE:"
       ]
      },
      {
       "output_type": "stream",
       "stream": "stdout",
       "text": [
        " 1889242.23838 894.527574991\n",
        "model 13 trainingrate 1 : "
       ]
      },
      {
       "output_type": "stream",
       "stream": "stdout",
       "text": [
        "constructing frames 158084\n",
        "Have"
       ]
      },
      {
       "output_type": "stream",
       "stream": "stdout",
       "text": [
        " 6613 examples constructed\n",
        "Have"
       ]
      },
      {
       "output_type": "stream",
       "stream": "stdout",
       "text": [
        " 6613 examples constructed\n",
        "Done constructing"
       ]
      },
      {
       "output_type": "stream",
       "stream": "stdout",
       "text": [
        " 6612 examples\n",
        "constructing frames 158084\n",
        "Have"
       ]
      },
      {
       "output_type": "stream",
       "stream": "stdout",
       "text": [
        " 6613 examples constructed\n",
        "Have"
       ]
      },
      {
       "output_type": "stream",
       "stream": "stdout",
       "text": [
        " 6613 examples constructed\n",
        "Done constructing"
       ]
      },
      {
       "output_type": "stream",
       "stream": "stdout",
       "text": [
        " 6612 examples\n",
        "MSE:"
       ]
      },
      {
       "output_type": "stream",
       "stream": "stdout",
       "text": [
        " 1889242.23838 894.527574991\n",
        "model 13 trainingrate 0.3 : "
       ]
      },
      {
       "output_type": "stream",
       "stream": "stdout",
       "text": [
        "constructing frames 158084\n",
        "Have"
       ]
      },
      {
       "output_type": "stream",
       "stream": "stdout",
       "text": [
        " 6613 examples constructed\n",
        "Have"
       ]
      },
      {
       "output_type": "stream",
       "stream": "stdout",
       "text": [
        " 6613 examples constructed\n",
        "Done constructing"
       ]
      },
      {
       "output_type": "stream",
       "stream": "stdout",
       "text": [
        " 6612 examples\n",
        "constructing frames 158084\n",
        "Have"
       ]
      },
      {
       "output_type": "stream",
       "stream": "stdout",
       "text": [
        " 6613 examples constructed\n",
        "Have"
       ]
      },
      {
       "output_type": "stream",
       "stream": "stdout",
       "text": [
        " 6613 examples constructed\n",
        "Done constructing"
       ]
      },
      {
       "output_type": "stream",
       "stream": "stdout",
       "text": [
        " 6612 examples\n",
        "MSE:"
       ]
      },
      {
       "output_type": "stream",
       "stream": "stdout",
       "text": [
        " 25191.3230123 11.9277097596\n",
        "model 13 trainingrate 0.1 : "
       ]
      },
      {
       "output_type": "stream",
       "stream": "stdout",
       "text": [
        "constructing frames 158084\n",
        "Have"
       ]
      },
      {
       "output_type": "stream",
       "stream": "stdout",
       "text": [
        " 6613 examples constructed\n",
        "Have"
       ]
      },
      {
       "output_type": "stream",
       "stream": "stdout",
       "text": [
        " 6613 examples constructed\n",
        "Done constructing"
       ]
      },
      {
       "output_type": "stream",
       "stream": "stdout",
       "text": [
        " 6612 examples\n",
        "constructing frames 158084\n",
        "Have"
       ]
      },
      {
       "output_type": "stream",
       "stream": "stdout",
       "text": [
        " 6613 examples constructed\n",
        "Have"
       ]
      },
      {
       "output_type": "stream",
       "stream": "stdout",
       "text": [
        " 6613 examples constructed\n",
        "Done constructing"
       ]
      },
      {
       "output_type": "stream",
       "stream": "stdout",
       "text": [
        " 6612 examples\n",
        "MSE:"
       ]
      },
      {
       "output_type": "stream",
       "stream": "stdout",
       "text": [
        " 25928.3573935 12.2766843719\n",
        "model 13 trainingrate 0.03 : no model\n",
        "model 13 trainingrate 0.01 : "
       ]
      },
      {
       "output_type": "stream",
       "stream": "stdout",
       "text": [
        "constructing frames 158084\n",
        "Have"
       ]
      },
      {
       "output_type": "stream",
       "stream": "stdout",
       "text": [
        " 6613 examples constructed\n",
        "Have"
       ]
      },
      {
       "output_type": "stream",
       "stream": "stdout",
       "text": [
        " 6613 examples constructed\n",
        "Done constructing"
       ]
      },
      {
       "output_type": "stream",
       "stream": "stdout",
       "text": [
        " 6612 examples\n",
        "constructing frames 158084\n",
        "Have"
       ]
      },
      {
       "output_type": "stream",
       "stream": "stdout",
       "text": [
        " 6613 examples constructed\n",
        "Have"
       ]
      },
      {
       "output_type": "stream",
       "stream": "stdout",
       "text": [
        " 6613 examples constructed\n",
        "Done constructing"
       ]
      },
      {
       "output_type": "stream",
       "stream": "stdout",
       "text": [
        " 6612 examples\n",
        "MSE:"
       ]
      },
      {
       "output_type": "stream",
       "stream": "stdout",
       "text": [
        " 70344.4413324 33.307027146\n",
        "model 13 trainingrate 0.003 : no model\n",
        "model 13 trainingrate 0.001 : no model\n",
        "model 13 trainingrate 0.0003 : no model\n",
        "model 13 trainingrate 0.0001 : no model\n",
        "model 14 trainingrate 3 : "
       ]
      },
      {
       "output_type": "stream",
       "stream": "stdout",
       "text": [
        "constructing frames 158084\n",
        "Have"
       ]
      },
      {
       "output_type": "stream",
       "stream": "stdout",
       "text": [
        " 6328 examples constructed\n",
        "Have"
       ]
      },
      {
       "output_type": "stream",
       "stream": "stdout",
       "text": [
        " 6328 examples constructed\n",
        "Done constructing"
       ]
      },
      {
       "output_type": "stream",
       "stream": "stdout",
       "text": [
        " 6327 examples\n",
        "constructing frames 158084\n",
        "Have"
       ]
      },
      {
       "output_type": "stream",
       "stream": "stdout",
       "text": [
        " 6328 examples constructed\n",
        "Have"
       ]
      },
      {
       "output_type": "stream",
       "stream": "stdout",
       "text": [
        " 6328 examples constructed\n",
        "Done constructing"
       ]
      },
      {
       "output_type": "stream",
       "stream": "stdout",
       "text": [
        " 6327 examples\n",
        "MSE:"
       ]
      },
      {
       "output_type": "stream",
       "stream": "stdout",
       "text": [
        " 1856186.73867 878.876296717\n",
        "model 14 trainingrate 1 : "
       ]
      },
      {
       "output_type": "stream",
       "stream": "stdout",
       "text": [
        "constructing frames 158084\n",
        "Have"
       ]
      },
      {
       "output_type": "stream",
       "stream": "stdout",
       "text": [
        " 6328 examples constructed\n",
        "Have"
       ]
      },
      {
       "output_type": "stream",
       "stream": "stdout",
       "text": [
        " 6328 examples constructed\n",
        "Done constructing"
       ]
      },
      {
       "output_type": "stream",
       "stream": "stdout",
       "text": [
        " 6327 examples\n",
        "constructing frames 158084\n",
        "Have"
       ]
      },
      {
       "output_type": "stream",
       "stream": "stdout",
       "text": [
        " 6328 examples constructed\n",
        "Have"
       ]
      },
      {
       "output_type": "stream",
       "stream": "stdout",
       "text": [
        " 6328 examples constructed\n",
        "Done constructing"
       ]
      },
      {
       "output_type": "stream",
       "stream": "stdout",
       "text": [
        " 6327 examples\n",
        "MSE:"
       ]
      },
      {
       "output_type": "stream",
       "stream": "stdout",
       "text": [
        " 1856186.73867 878.876296717\n",
        "model 14 trainingrate 0.3 : "
       ]
      },
      {
       "output_type": "stream",
       "stream": "stdout",
       "text": [
        "constructing frames 158084\n",
        "Have"
       ]
      },
      {
       "output_type": "stream",
       "stream": "stdout",
       "text": [
        " 6328 examples constructed\n",
        "Have"
       ]
      },
      {
       "output_type": "stream",
       "stream": "stdout",
       "text": [
        " 6328 examples constructed\n",
        "Done constructing"
       ]
      },
      {
       "output_type": "stream",
       "stream": "stdout",
       "text": [
        " 6327 examples\n",
        "constructing frames 158084\n",
        "Have"
       ]
      },
      {
       "output_type": "stream",
       "stream": "stdout",
       "text": [
        " 6328 examples constructed\n",
        "Have"
       ]
      },
      {
       "output_type": "stream",
       "stream": "stdout",
       "text": [
        " 6328 examples constructed\n",
        "Done constructing"
       ]
      },
      {
       "output_type": "stream",
       "stream": "stdout",
       "text": [
        " 6327 examples\n",
        "MSE:"
       ]
      },
      {
       "output_type": "stream",
       "stream": "stdout",
       "text": [
        " 18395.7280127 8.71009849085\n",
        "model 14 trainingrate 0.1 : "
       ]
      },
      {
       "output_type": "stream",
       "stream": "stdout",
       "text": [
        "constructing frames 158084\n",
        "Have"
       ]
      },
      {
       "output_type": "stream",
       "stream": "stdout",
       "text": [
        " 6328 examples constructed\n",
        "Have"
       ]
      },
      {
       "output_type": "stream",
       "stream": "stdout",
       "text": [
        " 6328 examples constructed\n",
        "Done constructing"
       ]
      },
      {
       "output_type": "stream",
       "stream": "stdout",
       "text": [
        " 6327 examples\n",
        "constructing frames 158084\n",
        "Have"
       ]
      },
      {
       "output_type": "stream",
       "stream": "stdout",
       "text": [
        " 6328 examples constructed\n",
        "Have"
       ]
      },
      {
       "output_type": "stream",
       "stream": "stdout",
       "text": [
        " 6328 examples constructed\n",
        "Done constructing"
       ]
      },
      {
       "output_type": "stream",
       "stream": "stdout",
       "text": [
        " 6327 examples\n",
        "MSE:"
       ]
      },
      {
       "output_type": "stream",
       "stream": "stdout",
       "text": [
        " 24526.5107621 11.6129312321\n",
        "model 14 trainingrate 0.03 : no model\n",
        "model 14 trainingrate 0.01 : "
       ]
      },
      {
       "output_type": "stream",
       "stream": "stdout",
       "text": [
        "constructing frames 158084\n",
        "Have"
       ]
      },
      {
       "output_type": "stream",
       "stream": "stdout",
       "text": [
        " 6328 examples constructed\n",
        "Have"
       ]
      },
      {
       "output_type": "stream",
       "stream": "stdout",
       "text": [
        " 6328 examples constructed\n",
        "Done constructing"
       ]
      },
      {
       "output_type": "stream",
       "stream": "stdout",
       "text": [
        " 6327 examples\n",
        "constructing frames 158084\n",
        "Have"
       ]
      },
      {
       "output_type": "stream",
       "stream": "stdout",
       "text": [
        " 6328 examples constructed\n",
        "Have"
       ]
      },
      {
       "output_type": "stream",
       "stream": "stdout",
       "text": [
        " 6328 examples constructed\n",
        "Done constructing"
       ]
      },
      {
       "output_type": "stream",
       "stream": "stdout",
       "text": [
        " 6327 examples\n",
        "MSE:"
       ]
      },
      {
       "output_type": "stream",
       "stream": "stdout",
       "text": [
        " 72740.8714717 34.4417005074\n",
        "model 14 trainingrate 0.003 : no model\n",
        "model 14 trainingrate 0.001 : no model\n",
        "model 14 trainingrate 0.0003 : no model\n",
        "model 14 trainingrate 0.0001 : no model\n",
        "model 16 trainingrate 3 : "
       ]
      },
      {
       "output_type": "stream",
       "stream": "stdout",
       "text": [
        "constructing frames 158084\n",
        "Have"
       ]
      },
      {
       "output_type": "stream",
       "stream": "stdout",
       "text": [
        " 7198 examples constructed\n",
        "Have"
       ]
      },
      {
       "output_type": "stream",
       "stream": "stdout",
       "text": [
        " 7198 examples constructed\n",
        "Done constructing"
       ]
      },
      {
       "output_type": "stream",
       "stream": "stdout",
       "text": [
        " 7197 examples\n",
        "constructing frames 158084\n",
        "Have"
       ]
      },
      {
       "output_type": "stream",
       "stream": "stdout",
       "text": [
        " 7198 examples constructed\n",
        "Have"
       ]
      },
      {
       "output_type": "stream",
       "stream": "stdout",
       "text": [
        " 7198 examples constructed\n",
        "Done constructing"
       ]
      },
      {
       "output_type": "stream",
       "stream": "stdout",
       "text": [
        " 7197 examples\n",
        "MSE: 1107136.33136 524.212278108\n",
        "model 16 trainingrate 1 : "
       ]
      },
      {
       "output_type": "stream",
       "stream": "stdout",
       "text": [
        "constructing frames 158084\n",
        "Have"
       ]
      },
      {
       "output_type": "stream",
       "stream": "stdout",
       "text": [
        " 7198 examples constructed\n",
        "Have"
       ]
      },
      {
       "output_type": "stream",
       "stream": "stdout",
       "text": [
        " 7198 examples constructed\n",
        "Done constructing"
       ]
      },
      {
       "output_type": "stream",
       "stream": "stdout",
       "text": [
        " 7197 examples\n",
        "constructing frames 158084\n",
        "Have"
       ]
      },
      {
       "output_type": "stream",
       "stream": "stdout",
       "text": [
        " 7198 examples constructed\n",
        "Have"
       ]
      },
      {
       "output_type": "stream",
       "stream": "stdout",
       "text": [
        " 7198 examples constructed\n",
        "Done constructing"
       ]
      },
      {
       "output_type": "stream",
       "stream": "stdout",
       "text": [
        " 7197 examples\n",
        "MSE: 1107136.33136 524.212278108\n",
        "model 16 trainingrate 0.3 : "
       ]
      },
      {
       "output_type": "stream",
       "stream": "stdout",
       "text": [
        "constructing frames 158084\n",
        "Have"
       ]
      },
      {
       "output_type": "stream",
       "stream": "stdout",
       "text": [
        " 7198 examples constructed\n",
        "Have"
       ]
      },
      {
       "output_type": "stream",
       "stream": "stdout",
       "text": [
        " 7198 examples constructed\n",
        "Done constructing"
       ]
      },
      {
       "output_type": "stream",
       "stream": "stdout",
       "text": [
        " 7197 examples\n",
        "constructing frames 158084\n",
        "Have"
       ]
      },
      {
       "output_type": "stream",
       "stream": "stdout",
       "text": [
        " 7198 examples constructed\n",
        "Have"
       ]
      },
      {
       "output_type": "stream",
       "stream": "stdout",
       "text": [
        " 7198 examples constructed\n",
        "Done constructing"
       ]
      },
      {
       "output_type": "stream",
       "stream": "stdout",
       "text": [
        " 7197 examples\n",
        "MSE: 19130.899448 9.05819102649\n",
        "model 16 trainingrate 0.1 : "
       ]
      },
      {
       "output_type": "stream",
       "stream": "stdout",
       "text": [
        "constructing frames 158084\n",
        "Have"
       ]
      },
      {
       "output_type": "stream",
       "stream": "stdout",
       "text": [
        " 7198 examples constructed\n",
        "Have"
       ]
      },
      {
       "output_type": "stream",
       "stream": "stdout",
       "text": [
        " 7198 examples constructed\n",
        "Done constructing"
       ]
      },
      {
       "output_type": "stream",
       "stream": "stdout",
       "text": [
        " 7197 examples\n",
        "constructing frames 158084\n",
        "Have"
       ]
      },
      {
       "output_type": "stream",
       "stream": "stdout",
       "text": [
        " 7198 examples constructed\n",
        "Have"
       ]
      },
      {
       "output_type": "stream",
       "stream": "stdout",
       "text": [
        " 7198 examples constructed\n",
        "Done constructing"
       ]
      },
      {
       "output_type": "stream",
       "stream": "stdout",
       "text": [
        " 7197 examples\n",
        "MSE: 23159.3482966 10.9656005192\n",
        "model 16 trainingrate 0.03 : "
       ]
      },
      {
       "output_type": "stream",
       "stream": "stdout",
       "text": [
        "constructing frames 158084\n",
        "Have"
       ]
      },
      {
       "output_type": "stream",
       "stream": "stdout",
       "text": [
        " 7198 examples constructed\n",
        "Have"
       ]
      },
      {
       "output_type": "stream",
       "stream": "stdout",
       "text": [
        " 7198 examples constructed\n",
        "Done constructing"
       ]
      },
      {
       "output_type": "stream",
       "stream": "stdout",
       "text": [
        " 7197 examples\n",
        "constructing frames 158084\n",
        "Have"
       ]
      },
      {
       "output_type": "stream",
       "stream": "stdout",
       "text": [
        " 7198 examples constructed\n",
        "Have"
       ]
      },
      {
       "output_type": "stream",
       "stream": "stdout",
       "text": [
        " 7198 examples constructed\n",
        "Done constructing"
       ]
      },
      {
       "output_type": "stream",
       "stream": "stdout",
       "text": [
        " 7197 examples\n",
        "MSE: 30336.517388 14.363881339\n",
        "model 16 trainingrate 0.01 : "
       ]
      },
      {
       "output_type": "stream",
       "stream": "stdout",
       "text": [
        "no model\n",
        "model 16 trainingrate 0.003 : no model\n",
        "model 16 trainingrate 0.001 : no model\n",
        "model 16 trainingrate 0.0003 : no model\n",
        "model 16 trainingrate 0.0001 : no model\n",
        "model 21 trainingrate 3 : "
       ]
      },
      {
       "output_type": "stream",
       "stream": "stdout",
       "text": [
        "constructing frames 158084\n",
        "Have"
       ]
      },
      {
       "output_type": "stream",
       "stream": "stdout",
       "text": [
        " 7213 examples constructed\n",
        "Have"
       ]
      },
      {
       "output_type": "stream",
       "stream": "stdout",
       "text": [
        " 7213 examples constructed\n",
        "Done constructing"
       ]
      },
      {
       "output_type": "stream",
       "stream": "stdout",
       "text": [
        " 7212 examples\n",
        "constructing frames 158084\n",
        "Have"
       ]
      },
      {
       "output_type": "stream",
       "stream": "stdout",
       "text": [
        " 7213 examples constructed\n",
        "Have"
       ]
      },
      {
       "output_type": "stream",
       "stream": "stdout",
       "text": [
        " 7213 examples constructed\n",
        "Done constructing"
       ]
      },
      {
       "output_type": "stream",
       "stream": "stdout",
       "text": [
        " 7212 examples\n",
        "MSE: 1080946.98524 511.812019526\n",
        "model 21 trainingrate 1 : "
       ]
      },
      {
       "output_type": "stream",
       "stream": "stdout",
       "text": [
        "constructing frames 158084\n",
        "Have"
       ]
      },
      {
       "output_type": "stream",
       "stream": "stdout",
       "text": [
        " 7213 examples constructed\n",
        "Have"
       ]
      },
      {
       "output_type": "stream",
       "stream": "stdout",
       "text": [
        " 7213 examples constructed\n",
        "Done constructing"
       ]
      },
      {
       "output_type": "stream",
       "stream": "stdout",
       "text": [
        " 7212 examples\n",
        "constructing frames 158084\n",
        "Have"
       ]
      },
      {
       "output_type": "stream",
       "stream": "stdout",
       "text": [
        " 7213 examples constructed\n",
        "Have"
       ]
      },
      {
       "output_type": "stream",
       "stream": "stdout",
       "text": [
        " 7213 examples constructed\n",
        "Done constructing"
       ]
      },
      {
       "output_type": "stream",
       "stream": "stdout",
       "text": [
        " 7212 examples\n",
        "MSE: 1080946.98524 511.812019526\n",
        "model 21 trainingrate 0.3 : "
       ]
      },
      {
       "output_type": "stream",
       "stream": "stdout",
       "text": [
        "constructing frames 158084\n",
        "Have"
       ]
      },
      {
       "output_type": "stream",
       "stream": "stdout",
       "text": [
        " 7213 examples constructed\n",
        "Have"
       ]
      },
      {
       "output_type": "stream",
       "stream": "stdout",
       "text": [
        " 7213 examples constructed\n",
        "Done constructing"
       ]
      },
      {
       "output_type": "stream",
       "stream": "stdout",
       "text": [
        " 7212 examples\n",
        "constructing frames 158084\n",
        "Have"
       ]
      },
      {
       "output_type": "stream",
       "stream": "stdout",
       "text": [
        " 7213 examples constructed\n",
        "Have"
       ]
      },
      {
       "output_type": "stream",
       "stream": "stdout",
       "text": [
        " 7213 examples constructed\n",
        "Done constructing"
       ]
      },
      {
       "output_type": "stream",
       "stream": "stdout",
       "text": [
        " 7212 examples\n",
        "MSE: 14425.3750604 6.83019652482\n",
        "model 21 trainingrate 0.1 : "
       ]
      },
      {
       "output_type": "stream",
       "stream": "stdout",
       "text": [
        "constructing frames 158084\n",
        "Have"
       ]
      },
      {
       "output_type": "stream",
       "stream": "stdout",
       "text": [
        " 7213 examples constructed\n",
        "Have"
       ]
      },
      {
       "output_type": "stream",
       "stream": "stdout",
       "text": [
        " 7213 examples constructed\n",
        "Done constructing"
       ]
      },
      {
       "output_type": "stream",
       "stream": "stdout",
       "text": [
        " 7212 examples\n",
        "constructing frames 158084\n",
        "Have"
       ]
      },
      {
       "output_type": "stream",
       "stream": "stdout",
       "text": [
        " 7213 examples constructed\n",
        "Have"
       ]
      },
      {
       "output_type": "stream",
       "stream": "stdout",
       "text": [
        " 7213 examples constructed\n",
        "Done constructing"
       ]
      },
      {
       "output_type": "stream",
       "stream": "stdout",
       "text": [
        " 7212 examples\n",
        "MSE: 16268.2737987 7.70278115469\n",
        "model 21 trainingrate 0.03 : no model\n",
        "model 21 trainingrate 0.01 : no model\n",
        "model 21 trainingrate 0.003 : no model\n",
        "model 21 trainingrate 0.001 : no model\n",
        "model 21 trainingrate 0.0003 : no model\n",
        "model 21 trainingrate 0.0001 : no model\n",
        "model 22 trainingrate 3 : no model\n",
        "model 22 trainingrate 1 : "
       ]
      },
      {
       "output_type": "stream",
       "stream": "stdout",
       "text": [
        "constructing frames 158084\n",
        "Have"
       ]
      },
      {
       "output_type": "stream",
       "stream": "stdout",
       "text": [
        " 6598 examples constructed\n",
        "Have"
       ]
      },
      {
       "output_type": "stream",
       "stream": "stdout",
       "text": [
        " 6598 examples constructed\n",
        "Done constructing"
       ]
      },
      {
       "output_type": "stream",
       "stream": "stdout",
       "text": [
        " 6597 examples\n",
        "constructing frames 158084\n",
        "Have"
       ]
      },
      {
       "output_type": "stream",
       "stream": "stdout",
       "text": [
        " 6598 examples constructed\n",
        "Have"
       ]
      },
      {
       "output_type": "stream",
       "stream": "stdout",
       "text": [
        " 6598 examples constructed\n",
        "Done constructing"
       ]
      },
      {
       "output_type": "stream",
       "stream": "stdout",
       "text": [
        " 6597 examples\n",
        "MSE: 1037766.56208 491.366743407\n",
        "model 22 trainingrate 0.3 : "
       ]
      },
      {
       "output_type": "stream",
       "stream": "stdout",
       "text": [
        "constructing frames 158084\n",
        "Have"
       ]
      },
      {
       "output_type": "stream",
       "stream": "stdout",
       "text": [
        " 6598 examples constructed\n",
        "Have"
       ]
      },
      {
       "output_type": "stream",
       "stream": "stdout",
       "text": [
        " 6598 examples constructed\n",
        "Done constructing"
       ]
      },
      {
       "output_type": "stream",
       "stream": "stdout",
       "text": [
        " 6597 examples\n",
        "constructing frames 158084\n",
        "Have"
       ]
      },
      {
       "output_type": "stream",
       "stream": "stdout",
       "text": [
        " 6598 examples constructed\n",
        "Have"
       ]
      },
      {
       "output_type": "stream",
       "stream": "stdout",
       "text": [
        " 6598 examples constructed\n",
        "Done constructing"
       ]
      },
      {
       "output_type": "stream",
       "stream": "stdout",
       "text": [
        " 6597 examples\n",
        "MSE: 18430.8327667 8.72672006001\n",
        "model 22 trainingrate 0.1 : "
       ]
      },
      {
       "output_type": "stream",
       "stream": "stdout",
       "text": [
        "constructing frames 158084\n",
        "Have"
       ]
      },
      {
       "output_type": "stream",
       "stream": "stdout",
       "text": [
        " 6598 examples constructed\n",
        "Have"
       ]
      },
      {
       "output_type": "stream",
       "stream": "stdout",
       "text": [
        " 6598 examples constructed\n",
        "Done constructing"
       ]
      },
      {
       "output_type": "stream",
       "stream": "stdout",
       "text": [
        " 6597 examples\n",
        "constructing frames 158084\n",
        "Have"
       ]
      },
      {
       "output_type": "stream",
       "stream": "stdout",
       "text": [
        " 6598 examples constructed\n",
        "Have"
       ]
      },
      {
       "output_type": "stream",
       "stream": "stdout",
       "text": [
        " 6598 examples constructed\n",
        "Done constructing"
       ]
      },
      {
       "output_type": "stream",
       "stream": "stdout",
       "text": [
        " 6597 examples\n",
        "MSE: 22907.0434433 10.846137994\n",
        "model 22 trainingrate 0.03 : no model\n",
        "model 22 trainingrate 0.01 : no model\n",
        "model 22 trainingrate 0.003 : no model\n",
        "model 22 trainingrate 0.001 : no model\n",
        "model 22 trainingrate 0.0003 : no model\n",
        "model 22 trainingrate 0.0001 : no model\n",
        "model 28 trainingrate 3 : no model\n",
        "model 28 trainingrate 1 : "
       ]
      },
      {
       "output_type": "stream",
       "stream": "stdout",
       "text": [
        "constructing frames 158084\n",
        "Have"
       ]
      },
      {
       "output_type": "stream",
       "stream": "stdout",
       "text": [
        " 7213 examples constructed\n",
        "Have"
       ]
      },
      {
       "output_type": "stream",
       "stream": "stdout",
       "text": [
        " 7213 examples constructed\n",
        "Done constructing"
       ]
      },
      {
       "output_type": "stream",
       "stream": "stdout",
       "text": [
        " 7212 examples\n",
        "constructing frames 158084\n",
        "Have"
       ]
      },
      {
       "output_type": "stream",
       "stream": "stdout",
       "text": [
        " 7213 examples constructed\n",
        "Have"
       ]
      },
      {
       "output_type": "stream",
       "stream": "stdout",
       "text": [
        " 7213 examples constructed\n",
        "Done constructing"
       ]
      },
      {
       "output_type": "stream",
       "stream": "stdout",
       "text": [
        " 7212 examples\n",
        "MSE: 1080946.98524 511.812019526\n",
        "model 28 trainingrate 0.3 : "
       ]
      },
      {
       "output_type": "stream",
       "stream": "stdout",
       "text": [
        "constructing frames 158084\n",
        "Have"
       ]
      },
      {
       "output_type": "stream",
       "stream": "stdout",
       "text": [
        " 7213 examples constructed\n",
        "Have"
       ]
      },
      {
       "output_type": "stream",
       "stream": "stdout",
       "text": [
        " 7213 examples constructed\n",
        "Done constructing"
       ]
      },
      {
       "output_type": "stream",
       "stream": "stdout",
       "text": [
        " 7212 examples\n",
        "constructing frames 158084\n",
        "Have"
       ]
      },
      {
       "output_type": "stream",
       "stream": "stdout",
       "text": [
        " 7213 examples constructed\n",
        "Have"
       ]
      },
      {
       "output_type": "stream",
       "stream": "stdout",
       "text": [
        " 7213 examples constructed\n",
        "Done constructing"
       ]
      },
      {
       "output_type": "stream",
       "stream": "stdout",
       "text": [
        " 7212 examples\n",
        "MSE: 17406.3694249 8.24165218981\n",
        "model 28 trainingrate 0.1 : "
       ]
      },
      {
       "output_type": "stream",
       "stream": "stdout",
       "text": [
        "constructing frames 158084\n",
        "Have"
       ]
      },
      {
       "output_type": "stream",
       "stream": "stdout",
       "text": [
        " 7213 examples constructed\n",
        "Have"
       ]
      },
      {
       "output_type": "stream",
       "stream": "stdout",
       "text": [
        " 7213 examples constructed\n",
        "Done constructing"
       ]
      },
      {
       "output_type": "stream",
       "stream": "stdout",
       "text": [
        " 7212 examples\n",
        "constructing frames 158084\n",
        "Have"
       ]
      },
      {
       "output_type": "stream",
       "stream": "stdout",
       "text": [
        " 7213 examples constructed\n",
        "Have"
       ]
      },
      {
       "output_type": "stream",
       "stream": "stdout",
       "text": [
        " 7213 examples constructed\n",
        "Done constructing"
       ]
      },
      {
       "output_type": "stream",
       "stream": "stdout",
       "text": [
        " 7212 examples\n",
        "MSE: 20134.2645964 9.53326922178\n",
        "model 28 trainingrate 0.03 : no model\n",
        "model 28 trainingrate 0.01 : no model\n",
        "model 28 trainingrate 0.003 : no model\n",
        "model 28 trainingrate 0.001 : no model\n",
        "model 28 trainingrate 0.0003 : no model\n",
        "model 28 trainingrate 0.0001 : no model\n",
        "model 29 trainingrate 3 : no model\n",
        "model 29 trainingrate 1 : "
       ]
      },
      {
       "output_type": "stream",
       "stream": "stdout",
       "text": [
        "constructing frames 158084\n",
        "Have"
       ]
      },
      {
       "output_type": "stream",
       "stream": "stdout",
       "text": [
        " 5983 examples constructed\n",
        "Have"
       ]
      },
      {
       "output_type": "stream",
       "stream": "stdout",
       "text": [
        " 5983 examples constructed\n",
        "Done constructing"
       ]
      },
      {
       "output_type": "stream",
       "stream": "stdout",
       "text": [
        " 5982 examples\n",
        "constructing frames 158084\n",
        "Have"
       ]
      },
      {
       "output_type": "stream",
       "stream": "stdout",
       "text": [
        " 5983 examples constructed\n",
        "Have"
       ]
      },
      {
       "output_type": "stream",
       "stream": "stdout",
       "text": [
        " 5983 examples constructed\n",
        "Done constructing"
       ]
      },
      {
       "output_type": "stream",
       "stream": "stdout",
       "text": [
        " 5982 examples\n",
        "MSE: 1071659.08935 507.41434155\n",
        "model 29 trainingrate 0.3 : "
       ]
      },
      {
       "output_type": "stream",
       "stream": "stdout",
       "text": [
        "constructing frames 158084\n",
        "Have"
       ]
      },
      {
       "output_type": "stream",
       "stream": "stdout",
       "text": [
        " 5983 examples constructed\n",
        "Have"
       ]
      },
      {
       "output_type": "stream",
       "stream": "stdout",
       "text": [
        " 5983 examples constructed\n",
        "Done constructing"
       ]
      },
      {
       "output_type": "stream",
       "stream": "stdout",
       "text": [
        " 5982 examples\n",
        "constructing frames 158084\n",
        "Have"
       ]
      },
      {
       "output_type": "stream",
       "stream": "stdout",
       "text": [
        " 5983 examples constructed\n",
        "Have"
       ]
      },
      {
       "output_type": "stream",
       "stream": "stdout",
       "text": [
        " 5983 examples constructed\n",
        "Done constructing"
       ]
      },
      {
       "output_type": "stream",
       "stream": "stdout",
       "text": [
        " 5982 examples\n",
        "MSE: 25178.7936253 11.9217772847\n",
        "model 29 trainingrate 0.1 : "
       ]
      },
      {
       "output_type": "stream",
       "stream": "stdout",
       "text": [
        "constructing frames 158084\n",
        "Have"
       ]
      },
      {
       "output_type": "stream",
       "stream": "stdout",
       "text": [
        " 5983 examples constructed\n",
        "Have"
       ]
      },
      {
       "output_type": "stream",
       "stream": "stdout",
       "text": [
        " 5983 examples constructed\n",
        "Done constructing"
       ]
      },
      {
       "output_type": "stream",
       "stream": "stdout",
       "text": [
        " 5982 examples\n",
        "constructing frames 158084\n",
        "Have"
       ]
      },
      {
       "output_type": "stream",
       "stream": "stdout",
       "text": [
        " 5983 examples constructed\n",
        "Have"
       ]
      },
      {
       "output_type": "stream",
       "stream": "stdout",
       "text": [
        " 5983 examples constructed\n",
        "Done constructing"
       ]
      },
      {
       "output_type": "stream",
       "stream": "stdout",
       "text": [
        " 5982 examples\n",
        "MSE: 31612.7498596 14.9681580774\n",
        "model 29 trainingrate 0.03 : no model\n",
        "model 29 trainingrate 0.01 : no model\n",
        "model 29 trainingrate 0.003 : no model\n",
        "model 29 trainingrate 0.001 : no model\n",
        "model 29 trainingrate 0.0003 : no model\n",
        "model 29 trainingrate 0.0001 : no model\n"
       ]
      },
      {
       "html": [
        "<table><tr><td></td><td>3</td><td>1</td><td>0.3</td><td>0.1</td><td>0.03</td><td>0.01</td><td>0.003</td><td>0.001</td><td>0.0003</td><td>0.0001</td></tr><tr><td>2</td><td>400.0</td><td>400.0</td><td>70.0</td><td>70.0</td><td>70.0</td><td>70.0</td><td></td><td></td><td></td><td></td></tr><tr><td>9</td><td>500.0</td><td>500.0</td><td>13.0</td><td>15.0</td><td>17.0</td><td>21.0</td><td>31.0</td><td>50.0</td><td>130.0</td><td>150.0</td></tr><tr><td>13</td><td>900.0</td><td>900.0</td><td>12.0</td><td>12.0</td><td></td><td>30.0</td><td></td><td></td><td></td><td></td></tr><tr><td>14</td><td>900.0</td><td>900.0</td><td>9.0</td><td>12.0</td><td></td><td>30.0</td><td></td><td></td><td></td><td></td></tr><tr><td>16</td><td>500.0</td><td>500.0</td><td>9.0</td><td>11.0</td><td>14.0</td><td></td><td></td><td></td><td></td><td></td></tr><tr><td>21</td><td>500.0</td><td>500.0</td><td>7.0</td><td>8.0</td><td></td><td></td><td></td><td></td><td></td><td></td></tr><tr><td>22</td><td></td><td>500.0</td><td>9.0</td><td>11.0</td><td></td><td></td><td></td><td></td><td></td><td></td></tr><tr><td>28</td><td></td><td>500.0</td><td>8.0</td><td>10.0</td><td></td><td></td><td></td><td></td><td></td><td></td></tr><tr><td>29</td><td></td><td>500.0</td><td>12.0</td><td>15.0</td><td></td><td></td><td></td><td></td><td></td><td></td></tr></table>"
       ],
       "metadata": {},
       "output_type": "pyout",
       "prompt_number": 3,
       "text": [
        "<IPython.core.display.HTML at 0x2c995450>"
       ]
      }
     ],
     "prompt_number": 3
    },
    {
     "cell_type": "code",
     "collapsed": false,
     "input": [
      "from IPython.display import HTML\n",
      "learnrates = [\"0.3\",\"0.1\"]\n",
      "#learnrates = [\"3\",\"1\",\"0.3\",\"0.1\",\"0.03\",\"0.01\",\"0.003\",\"0.001\",\"0.0003\",\"0.0001\"]\n",
      "html = \"\"\n",
      "for speaker in [104,144,169,179]:\n",
      "    tbl = [[\"\"]+learnrates]\n",
      "    for modelnum in [2,9,13,14,16,21,22,28,29]:        \n",
      "        row = [ str(modelnum) ]\n",
      "        for trainingrate in learnrates:\n",
      "            print \"model\",modelnum,\"trainingrate\",trainingrate,\":\",\n",
      "            validmsenorm = compute_mse(speaker, modelnum, trainingrate )\n",
      "            if validmsenorm==None:\n",
      "                row.append( \"\" )\n",
      "            else:\n",
      "                row.append( str(sig_digits(validmsenorm,2)) )\n",
      "                print \"MSE:\", validmseraw, validmsenorm\n",
      "        tbl.append( row )\n",
      "    html += str(speaker) + \":<br>\"\n",
      "    html += html_table(tbl)\n",
      "HTML(html)"
     ],
     "language": "python",
     "metadata": {},
     "outputs": [
      {
       "output_type": "stream",
       "stream": "stdout",
       "text": [
        "model 2 trainingrate 0.3 : "
       ]
      },
      {
       "output_type": "stream",
       "stream": "stdout",
       "text": [
        "constructing frames 158084\n",
        "Have"
       ]
      },
      {
       "output_type": "stream",
       "stream": "stdout",
       "text": [
        " 6943 examples constructed\n",
        "Have"
       ]
      },
      {
       "output_type": "stream",
       "stream": "stdout",
       "text": [
        " 6943 examples constructed\n",
        "Done constructing"
       ]
      },
      {
       "output_type": "stream",
       "stream": "stdout",
       "text": [
        " 6942 examples\n",
        "constructing frames 158084\n",
        "Have"
       ]
      },
      {
       "output_type": "stream",
       "stream": "stdout",
       "text": [
        " 6943 examples constructed\n",
        "Have"
       ]
      },
      {
       "output_type": "stream",
       "stream": "stdout",
       "text": [
        " 6943 examples constructed\n",
        "Done constructing"
       ]
      },
      {
       "output_type": "stream",
       "stream": "stdout",
       "text": [
        " 6942 examples\n",
        "MSE:"
       ]
      },
      {
       "output_type": "stream",
       "stream": "stdout",
       "text": [
        " 31612.7498596 73.7474970376\n",
        "model 2 trainingrate 0.1 : "
       ]
      },
      {
       "output_type": "stream",
       "stream": "stdout",
       "text": [
        "constructing frames 158084\n",
        "Have"
       ]
      },
      {
       "output_type": "stream",
       "stream": "stdout",
       "text": [
        " 6943 examples constructed\n",
        "Have"
       ]
      },
      {
       "output_type": "stream",
       "stream": "stdout",
       "text": [
        " 6943 examples constructed\n",
        "Done constructing"
       ]
      },
      {
       "output_type": "stream",
       "stream": "stdout",
       "text": [
        " 6942 examples\n",
        "constructing frames 158084\n",
        "Have"
       ]
      },
      {
       "output_type": "stream",
       "stream": "stdout",
       "text": [
        " 6943 examples constructed\n",
        "Have"
       ]
      },
      {
       "output_type": "stream",
       "stream": "stdout",
       "text": [
        " 6943 examples constructed\n",
        "Done constructing"
       ]
      },
      {
       "output_type": "stream",
       "stream": "stdout",
       "text": [
        " 6942 examples\n",
        "MSE:"
       ]
      },
      {
       "output_type": "stream",
       "stream": "stdout",
       "text": [
        " 31612.7498596 66.3214452122\n",
        "model 9 trainingrate 0.3 : "
       ]
      },
      {
       "output_type": "stream",
       "stream": "stdout",
       "text": [
        "constructing frames 158084\n",
        "Have"
       ]
      },
      {
       "output_type": "stream",
       "stream": "stdout",
       "text": [
        " 5983 examples constructed\n",
        "Have"
       ]
      },
      {
       "output_type": "stream",
       "stream": "stdout",
       "text": [
        " 5983 examples constructed\n",
        "Done constructing"
       ]
      },
      {
       "output_type": "stream",
       "stream": "stdout",
       "text": [
        " 5982 examples\n",
        "constructing frames 158084\n",
        "Have"
       ]
      },
      {
       "output_type": "stream",
       "stream": "stdout",
       "text": [
        " 5983 examples constructed\n",
        "Have"
       ]
      },
      {
       "output_type": "stream",
       "stream": "stdout",
       "text": [
        " 5983 examples constructed\n",
        "Done constructing"
       ]
      },
      {
       "output_type": "stream",
       "stream": "stdout",
       "text": [
        " 5982 examples\n",
        "MSE: 31612.7498596 12.5707848657\n",
        "model 9 trainingrate 0.1 : "
       ]
      },
      {
       "output_type": "stream",
       "stream": "stdout",
       "text": [
        "constructing frames 158084\n",
        "Have"
       ]
      },
      {
       "output_type": "stream",
       "stream": "stdout",
       "text": [
        " 5983 examples constructed\n",
        "Have"
       ]
      },
      {
       "output_type": "stream",
       "stream": "stdout",
       "text": [
        " 5983 examples constructed\n",
        "Done constructing"
       ]
      },
      {
       "output_type": "stream",
       "stream": "stdout",
       "text": [
        " 5982 examples\n",
        "constructing frames 158084\n",
        "Have"
       ]
      },
      {
       "output_type": "stream",
       "stream": "stdout",
       "text": [
        " 5983 examples constructed\n",
        "Have"
       ]
      },
      {
       "output_type": "stream",
       "stream": "stdout",
       "text": [
        " 5983 examples constructed\n",
        "Done constructing"
       ]
      },
      {
       "output_type": "stream",
       "stream": "stdout",
       "text": [
        " 5982 examples\n",
        "MSE: 31612.7498596 14.9636955936\n",
        "model 13 trainingrate 0.3 : "
       ]
      },
      {
       "output_type": "stream",
       "stream": "stdout",
       "text": [
        "constructing frames 158084\n",
        "Have"
       ]
      },
      {
       "output_type": "stream",
       "stream": "stdout",
       "text": [
        " 6613 examples constructed\n",
        "Have"
       ]
      },
      {
       "output_type": "stream",
       "stream": "stdout",
       "text": [
        " 6613 examples constructed\n",
        "Done constructing"
       ]
      },
      {
       "output_type": "stream",
       "stream": "stdout",
       "text": [
        " 6612 examples\n",
        "constructing frames 158084\n",
        "Have"
       ]
      },
      {
       "output_type": "stream",
       "stream": "stdout",
       "text": [
        " 6613 examples constructed\n",
        "Have"
       ]
      },
      {
       "output_type": "stream",
       "stream": "stdout",
       "text": [
        " 6613 examples constructed\n",
        "Done constructing"
       ]
      },
      {
       "output_type": "stream",
       "stream": "stdout",
       "text": [
        " 6612 examples\n",
        "MSE:"
       ]
      },
      {
       "output_type": "stream",
       "stream": "stdout",
       "text": [
        " 31612.7498596 11.9277097596\n",
        "model 13 trainingrate 0.1 : "
       ]
      },
      {
       "output_type": "stream",
       "stream": "stdout",
       "text": [
        "constructing frames 158084\n",
        "Have"
       ]
      },
      {
       "output_type": "stream",
       "stream": "stdout",
       "text": [
        " 6613 examples constructed\n",
        "Have"
       ]
      },
      {
       "output_type": "stream",
       "stream": "stdout",
       "text": [
        " 6613 examples constructed\n",
        "Done constructing"
       ]
      },
      {
       "output_type": "stream",
       "stream": "stdout",
       "text": [
        " 6612 examples\n",
        "constructing frames 158084\n",
        "Have"
       ]
      },
      {
       "output_type": "stream",
       "stream": "stdout",
       "text": [
        " 6613 examples constructed\n",
        "Have"
       ]
      },
      {
       "output_type": "stream",
       "stream": "stdout",
       "text": [
        " 6613 examples constructed\n",
        "Done constructing"
       ]
      },
      {
       "output_type": "stream",
       "stream": "stdout",
       "text": [
        " 6612 examples\n",
        "MSE:"
       ]
      },
      {
       "output_type": "stream",
       "stream": "stdout",
       "text": [
        " 31612.7498596 12.2766843719\n",
        "model 14 trainingrate 0.3 : "
       ]
      },
      {
       "output_type": "stream",
       "stream": "stdout",
       "text": [
        "constructing frames 158084\n",
        "Have"
       ]
      },
      {
       "output_type": "stream",
       "stream": "stdout",
       "text": [
        " 6328 examples constructed\n",
        "Have"
       ]
      },
      {
       "output_type": "stream",
       "stream": "stdout",
       "text": [
        " 6328 examples constructed\n",
        "Done constructing"
       ]
      },
      {
       "output_type": "stream",
       "stream": "stdout",
       "text": [
        " 6327 examples\n",
        "constructing frames 158084\n",
        "Have"
       ]
      },
      {
       "output_type": "stream",
       "stream": "stdout",
       "text": [
        " 6328 examples constructed\n",
        "Have"
       ]
      },
      {
       "output_type": "stream",
       "stream": "stdout",
       "text": [
        " 6328 examples constructed\n",
        "Done constructing"
       ]
      },
      {
       "output_type": "stream",
       "stream": "stdout",
       "text": [
        " 6327 examples\n",
        "MSE:"
       ]
      },
      {
       "output_type": "stream",
       "stream": "stdout",
       "text": [
        " 31612.7498596 8.71009849085\n",
        "model 14 trainingrate 0.1 : "
       ]
      },
      {
       "output_type": "stream",
       "stream": "stdout",
       "text": [
        "constructing frames 158084\n",
        "Have"
       ]
      },
      {
       "output_type": "stream",
       "stream": "stdout",
       "text": [
        " 6328 examples constructed\n",
        "Have"
       ]
      },
      {
       "output_type": "stream",
       "stream": "stdout",
       "text": [
        " 6328 examples constructed\n",
        "Done constructing"
       ]
      },
      {
       "output_type": "stream",
       "stream": "stdout",
       "text": [
        " 6327 examples\n",
        "constructing frames 158084\n",
        "Have"
       ]
      },
      {
       "output_type": "stream",
       "stream": "stdout",
       "text": [
        " 6328 examples constructed\n",
        "Have"
       ]
      },
      {
       "output_type": "stream",
       "stream": "stdout",
       "text": [
        " 6328 examples constructed\n",
        "Done constructing"
       ]
      },
      {
       "output_type": "stream",
       "stream": "stdout",
       "text": [
        " 6327 examples\n",
        "MSE:"
       ]
      },
      {
       "output_type": "stream",
       "stream": "stdout",
       "text": [
        " 31612.7498596 11.6129312321\n",
        "model 16 trainingrate 0.3 : "
       ]
      },
      {
       "output_type": "stream",
       "stream": "stdout",
       "text": [
        "constructing frames 158084\n",
        "Have"
       ]
      },
      {
       "output_type": "stream",
       "stream": "stdout",
       "text": [
        " 7198 examples constructed\n",
        "Have"
       ]
      },
      {
       "output_type": "stream",
       "stream": "stdout",
       "text": [
        " 7198 examples constructed\n",
        "Done constructing"
       ]
      },
      {
       "output_type": "stream",
       "stream": "stdout",
       "text": [
        " 7197 examples\n",
        "constructing frames 158084\n",
        "Have"
       ]
      },
      {
       "output_type": "stream",
       "stream": "stdout",
       "text": [
        " 7198 examples constructed\n",
        "Have"
       ]
      },
      {
       "output_type": "stream",
       "stream": "stdout",
       "text": [
        " 7198 examples constructed\n",
        "Done constructing"
       ]
      },
      {
       "output_type": "stream",
       "stream": "stdout",
       "text": [
        " 7197 examples\n",
        "MSE: 31612.7498596 9.05819102649\n",
        "model 16 trainingrate 0.1 : "
       ]
      },
      {
       "output_type": "stream",
       "stream": "stdout",
       "text": [
        "constructing frames 158084\n",
        "Have"
       ]
      },
      {
       "output_type": "stream",
       "stream": "stdout",
       "text": [
        " 7198 examples constructed\n",
        "Have"
       ]
      },
      {
       "output_type": "stream",
       "stream": "stdout",
       "text": [
        " 7198 examples constructed\n",
        "Done constructing"
       ]
      },
      {
       "output_type": "stream",
       "stream": "stdout",
       "text": [
        " 7197 examples\n",
        "constructing frames 158084\n",
        "Have"
       ]
      },
      {
       "output_type": "stream",
       "stream": "stdout",
       "text": [
        " 7198 examples constructed\n",
        "Have"
       ]
      },
      {
       "output_type": "stream",
       "stream": "stdout",
       "text": [
        " 7198 examples constructed\n",
        "Done constructing"
       ]
      },
      {
       "output_type": "stream",
       "stream": "stdout",
       "text": [
        " 7197 examples\n",
        "MSE: 31612.7498596 10.9656005192\n",
        "model 21 trainingrate 0.3 : "
       ]
      },
      {
       "output_type": "stream",
       "stream": "stdout",
       "text": [
        "constructing frames 158084\n",
        "Have"
       ]
      },
      {
       "output_type": "stream",
       "stream": "stdout",
       "text": [
        " 7213 examples constructed\n",
        "Have"
       ]
      },
      {
       "output_type": "stream",
       "stream": "stdout",
       "text": [
        " 7213 examples constructed\n",
        "Done constructing"
       ]
      },
      {
       "output_type": "stream",
       "stream": "stdout",
       "text": [
        " 7212 examples\n",
        "constructing frames 158084\n",
        "Have"
       ]
      },
      {
       "output_type": "stream",
       "stream": "stdout",
       "text": [
        " 7213 examples constructed\n",
        "Have"
       ]
      },
      {
       "output_type": "stream",
       "stream": "stdout",
       "text": [
        " 7213 examples constructed\n",
        "Done constructing"
       ]
      },
      {
       "output_type": "stream",
       "stream": "stdout",
       "text": [
        " 7212 examples\n",
        "MSE: 31612.7498596 6.83019652482\n",
        "model 21 trainingrate 0.1 : "
       ]
      },
      {
       "output_type": "stream",
       "stream": "stdout",
       "text": [
        "constructing frames 158084\n",
        "Have"
       ]
      },
      {
       "output_type": "stream",
       "stream": "stdout",
       "text": [
        " 7213 examples constructed\n",
        "Have"
       ]
      },
      {
       "output_type": "stream",
       "stream": "stdout",
       "text": [
        " 7213 examples constructed\n",
        "Done constructing"
       ]
      },
      {
       "output_type": "stream",
       "stream": "stdout",
       "text": [
        " 7212 examples\n",
        "constructing frames 158084\n",
        "Have"
       ]
      },
      {
       "output_type": "stream",
       "stream": "stdout",
       "text": [
        " 7213 examples constructed\n",
        "Have"
       ]
      },
      {
       "output_type": "stream",
       "stream": "stdout",
       "text": [
        " 7213 examples constructed\n",
        "Done constructing"
       ]
      },
      {
       "output_type": "stream",
       "stream": "stdout",
       "text": [
        " 7212 examples\n",
        "MSE: 31612.7498596 7.70278115469\n",
        "model 22 trainingrate 0.3 : "
       ]
      },
      {
       "output_type": "stream",
       "stream": "stdout",
       "text": [
        "constructing frames 158084\n",
        "Have"
       ]
      },
      {
       "output_type": "stream",
       "stream": "stdout",
       "text": [
        " 6598 examples constructed\n",
        "Have"
       ]
      },
      {
       "output_type": "stream",
       "stream": "stdout",
       "text": [
        " 6598 examples constructed\n",
        "Done constructing"
       ]
      },
      {
       "output_type": "stream",
       "stream": "stdout",
       "text": [
        " 6597 examples\n",
        "constructing frames 158084\n",
        "Have"
       ]
      },
      {
       "output_type": "stream",
       "stream": "stdout",
       "text": [
        " 6598 examples constructed\n",
        "Have"
       ]
      },
      {
       "output_type": "stream",
       "stream": "stdout",
       "text": [
        " 6598 examples constructed\n",
        "Done constructing"
       ]
      },
      {
       "output_type": "stream",
       "stream": "stdout",
       "text": [
        " 6597 examples\n",
        "MSE: 31612.7498596 8.72672006001\n",
        "model 22 trainingrate 0.1 : "
       ]
      },
      {
       "output_type": "stream",
       "stream": "stdout",
       "text": [
        "constructing frames 158084\n",
        "Have"
       ]
      },
      {
       "output_type": "stream",
       "stream": "stdout",
       "text": [
        " 6598 examples constructed\n",
        "Have"
       ]
      },
      {
       "output_type": "stream",
       "stream": "stdout",
       "text": [
        " 6598 examples constructed\n",
        "Done constructing"
       ]
      },
      {
       "output_type": "stream",
       "stream": "stdout",
       "text": [
        " 6597 examples\n",
        "constructing frames 158084\n",
        "Have"
       ]
      },
      {
       "output_type": "stream",
       "stream": "stdout",
       "text": [
        " 6598 examples constructed\n",
        "Have"
       ]
      },
      {
       "output_type": "stream",
       "stream": "stdout",
       "text": [
        " 6598 examples constructed\n",
        "Done constructing"
       ]
      },
      {
       "output_type": "stream",
       "stream": "stdout",
       "text": [
        " 6597 examples\n",
        "MSE: 31612.7498596 10.846137994\n",
        "model 28 trainingrate 0.3 : "
       ]
      },
      {
       "output_type": "stream",
       "stream": "stdout",
       "text": [
        "constructing frames 158084\n",
        "Have"
       ]
      },
      {
       "output_type": "stream",
       "stream": "stdout",
       "text": [
        " 7213 examples constructed\n",
        "Have"
       ]
      },
      {
       "output_type": "stream",
       "stream": "stdout",
       "text": [
        " 7213 examples constructed\n",
        "Done constructing"
       ]
      },
      {
       "output_type": "stream",
       "stream": "stdout",
       "text": [
        " 7212 examples\n",
        "constructing frames 158084\n",
        "Have"
       ]
      },
      {
       "output_type": "stream",
       "stream": "stdout",
       "text": [
        " 7213 examples constructed\n",
        "Have"
       ]
      },
      {
       "output_type": "stream",
       "stream": "stdout",
       "text": [
        " 7213 examples constructed\n",
        "Done constructing"
       ]
      },
      {
       "output_type": "stream",
       "stream": "stdout",
       "text": [
        " 7212 examples\n",
        "MSE: 31612.7498596 8.24165218981\n",
        "model 28 trainingrate 0.1 : "
       ]
      },
      {
       "output_type": "stream",
       "stream": "stdout",
       "text": [
        "constructing frames 158084\n",
        "Have"
       ]
      },
      {
       "output_type": "stream",
       "stream": "stdout",
       "text": [
        " 7213 examples constructed\n",
        "Have"
       ]
      },
      {
       "output_type": "stream",
       "stream": "stdout",
       "text": [
        " 7213 examples constructed\n",
        "Done constructing"
       ]
      },
      {
       "output_type": "stream",
       "stream": "stdout",
       "text": [
        " 7212 examples\n",
        "constructing frames 158084\n",
        "Have"
       ]
      },
      {
       "output_type": "stream",
       "stream": "stdout",
       "text": [
        " 7213 examples constructed\n",
        "Have"
       ]
      },
      {
       "output_type": "stream",
       "stream": "stdout",
       "text": [
        " 7213 examples constructed\n",
        "Done constructing"
       ]
      },
      {
       "output_type": "stream",
       "stream": "stdout",
       "text": [
        " 7212 examples\n",
        "MSE: 31612.7498596 9.53326922178\n",
        "model 29 trainingrate 0.3 : "
       ]
      },
      {
       "output_type": "stream",
       "stream": "stdout",
       "text": [
        "constructing frames 158084\n",
        "Have"
       ]
      },
      {
       "output_type": "stream",
       "stream": "stdout",
       "text": [
        " 5983 examples constructed\n",
        "Have"
       ]
      },
      {
       "output_type": "stream",
       "stream": "stdout",
       "text": [
        " 5983 examples constructed\n",
        "Done constructing"
       ]
      },
      {
       "output_type": "stream",
       "stream": "stdout",
       "text": [
        " 5982 examples\n",
        "constructing frames 158084\n",
        "Have"
       ]
      },
      {
       "output_type": "stream",
       "stream": "stdout",
       "text": [
        " 5983 examples constructed\n",
        "Have"
       ]
      },
      {
       "output_type": "stream",
       "stream": "stdout",
       "text": [
        " 5983 examples constructed\n",
        "Done constructing"
       ]
      },
      {
       "output_type": "stream",
       "stream": "stdout",
       "text": [
        " 5982 examples\n",
        "MSE: 31612.7498596 11.9217772847\n",
        "model 29 trainingrate 0.1 : "
       ]
      },
      {
       "output_type": "stream",
       "stream": "stdout",
       "text": [
        "constructing frames 158084\n",
        "Have"
       ]
      },
      {
       "output_type": "stream",
       "stream": "stdout",
       "text": [
        " 5983 examples constructed\n",
        "Have"
       ]
      },
      {
       "output_type": "stream",
       "stream": "stdout",
       "text": [
        " 5983 examples constructed\n",
        "Done constructing"
       ]
      },
      {
       "output_type": "stream",
       "stream": "stdout",
       "text": [
        " 5982 examples\n",
        "constructing frames 158084\n",
        "Have"
       ]
      },
      {
       "output_type": "stream",
       "stream": "stdout",
       "text": [
        " 5983 examples constructed\n",
        "Have"
       ]
      },
      {
       "output_type": "stream",
       "stream": "stdout",
       "text": [
        " 5983 examples constructed\n",
        "Done constructing"
       ]
      },
      {
       "ename": "NameError",
       "evalue": "name 'spreaker' is not defined",
       "output_type": "pyerr",
       "traceback": [
        "\u001b[1;31m---------------------------------------------------------------------------\u001b[0m\n\u001b[1;31mNameError\u001b[0m                                 Traceback (most recent call last)",
        "\u001b[1;32m<ipython-input-7-c720113d4641>\u001b[0m in \u001b[0;36m<module>\u001b[1;34m()\u001b[0m\n\u001b[0;32m     16\u001b[0m                 \u001b[1;32mprint\u001b[0m \u001b[1;34m\"MSE:\"\u001b[0m\u001b[1;33m,\u001b[0m \u001b[0mvalidmseraw\u001b[0m\u001b[1;33m,\u001b[0m \u001b[0mvalidmsenorm\u001b[0m\u001b[1;33m\u001b[0m\u001b[0m\n\u001b[0;32m     17\u001b[0m         \u001b[0mtbl\u001b[0m\u001b[1;33m.\u001b[0m\u001b[0mappend\u001b[0m\u001b[1;33m(\u001b[0m \u001b[0mrow\u001b[0m \u001b[1;33m)\u001b[0m\u001b[1;33m\u001b[0m\u001b[0m\n\u001b[1;32m---> 18\u001b[1;33m     \u001b[0mhtml\u001b[0m \u001b[1;33m+=\u001b[0m \u001b[0mstr\u001b[0m\u001b[1;33m(\u001b[0m\u001b[0mspreaker\u001b[0m\u001b[1;33m)\u001b[0m \u001b[1;33m+\u001b[0m \u001b[1;34m\":<br>\"\u001b[0m\u001b[1;33m\u001b[0m\u001b[0m\n\u001b[0m\u001b[0;32m     19\u001b[0m     \u001b[0mhtml\u001b[0m \u001b[1;33m+=\u001b[0m \u001b[0mhtml_table\u001b[0m\u001b[1;33m(\u001b[0m\u001b[0mtbl\u001b[0m\u001b[1;33m)\u001b[0m\u001b[1;33m\u001b[0m\u001b[0m\n\u001b[0;32m     20\u001b[0m \u001b[0mHTML\u001b[0m\u001b[1;33m(\u001b[0m\u001b[0mhtml\u001b[0m\u001b[1;33m)\u001b[0m\u001b[1;33m\u001b[0m\u001b[0m\n",
        "\u001b[1;31mNameError\u001b[0m: name 'spreaker' is not defined"
       ]
      },
      {
       "output_type": "stream",
       "stream": "stdout",
       "text": [
        " 5982 examples\n",
        "MSE: 31612.7498596 14.9681580774\n"
       ]
      }
     ],
     "prompt_number": 7
    },
    {
     "cell_type": "code",
     "collapsed": false,
     "input": [
      "numpy.sqrt(sum(train.sentence_idx_to_wave(2)**2)/len(train.sentence_idx_to_wave(2)))"
     ],
     "language": "python",
     "metadata": {},
     "outputs": [
      {
       "metadata": {},
       "output_type": "pyout",
       "prompt_number": 12,
       "text": [
        "40.26164427839479"
       ]
      }
     ],
     "prompt_number": 12
    },
    {
     "cell_type": "code",
     "collapsed": false,
     "input": [],
     "language": "python",
     "metadata": {},
     "outputs": []
    }
   ],
   "metadata": {}
  }
 ]
}