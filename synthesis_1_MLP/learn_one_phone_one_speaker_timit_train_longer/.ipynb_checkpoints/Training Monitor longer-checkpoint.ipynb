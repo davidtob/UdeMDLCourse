{
 "metadata": {
  "name": ""
 },
 "nbformat": 3,
 "nbformat_minor": 0,
 "worksheets": [
  {
   "cells": [
    {
     "cell_type": "code",
     "collapsed": false,
     "input": [
      "%pylab inline\n",
      "import cPickle\n",
      "import pylab as plt\n",
      "import numpy\n",
      "\n",
      "progressMLP = cPickle.load(open('104/progress16-0.03.pkl'))\n",
      "train_obj = numpy.array(progressMLP.monitor.channels['train_objective'].val_record)\n",
      "valid_obj = numpy.array(progressMLP.monitor.channels['valid_objective'].val_record)\n",
      "\n",
      "\n",
      "plt.figure( figsize=(20,10))\n",
      "i = 1\n",
      "for start_at in [0, max(len(train_obj)-25,0)]:\n",
      "    plt.subplot( 2, 2, i)\n",
      "    i+=1\n",
      "    plt.plot( range(start_at,len(train_obj)), train_obj[start_at:], color='b' )\n",
      "    plt.plot( range(start_at,len(valid_obj)), valid_obj[start_at:], color='g' )\n",
      "    plt.subplot( 2, 2, i)\n",
      "    i+=1\n",
      "    plt.plot( range(start_at+1,len(valid_obj)), valid_obj[start_at+1:]/valid_obj[start_at:-1], color='g' )\n"
     ],
     "language": "python",
     "metadata": {},
     "outputs": [
      {
       "ename": "IOError",
       "evalue": "[Errno 2] No such file or directory: '104/progress16-0.03.pkl'",
       "output_type": "pyerr",
       "traceback": [
        "\u001b[1;31m---------------------------------------------------------------------------\u001b[0m\n\u001b[1;31mIOError\u001b[0m                                   Traceback (most recent call last)",
        "\u001b[1;32m<ipython-input-286-6a2eae0851ba>\u001b[0m in \u001b[0;36m<module>\u001b[1;34m()\u001b[0m\n\u001b[0;32m      4\u001b[0m \u001b[1;32mimport\u001b[0m \u001b[0mnumpy\u001b[0m\u001b[1;33m\u001b[0m\u001b[0m\n\u001b[0;32m      5\u001b[0m \u001b[1;33m\u001b[0m\u001b[0m\n\u001b[1;32m----> 6\u001b[1;33m \u001b[0mprogressMLP\u001b[0m \u001b[1;33m=\u001b[0m \u001b[0mcPickle\u001b[0m\u001b[1;33m.\u001b[0m\u001b[0mload\u001b[0m\u001b[1;33m(\u001b[0m\u001b[0mopen\u001b[0m\u001b[1;33m(\u001b[0m\u001b[1;34m'104/progress16-0.03.pkl'\u001b[0m\u001b[1;33m)\u001b[0m\u001b[1;33m)\u001b[0m\u001b[1;33m\u001b[0m\u001b[0m\n\u001b[0m\u001b[0;32m      7\u001b[0m \u001b[0mtrain_obj\u001b[0m \u001b[1;33m=\u001b[0m \u001b[0mnumpy\u001b[0m\u001b[1;33m.\u001b[0m\u001b[0marray\u001b[0m\u001b[1;33m(\u001b[0m\u001b[0mprogressMLP\u001b[0m\u001b[1;33m.\u001b[0m\u001b[0mmonitor\u001b[0m\u001b[1;33m.\u001b[0m\u001b[0mchannels\u001b[0m\u001b[1;33m[\u001b[0m\u001b[1;34m'train_objective'\u001b[0m\u001b[1;33m]\u001b[0m\u001b[1;33m.\u001b[0m\u001b[0mval_record\u001b[0m\u001b[1;33m)\u001b[0m\u001b[1;33m\u001b[0m\u001b[0m\n\u001b[0;32m      8\u001b[0m \u001b[0mvalid_obj\u001b[0m \u001b[1;33m=\u001b[0m \u001b[0mnumpy\u001b[0m\u001b[1;33m.\u001b[0m\u001b[0marray\u001b[0m\u001b[1;33m(\u001b[0m\u001b[0mprogressMLP\u001b[0m\u001b[1;33m.\u001b[0m\u001b[0mmonitor\u001b[0m\u001b[1;33m.\u001b[0m\u001b[0mchannels\u001b[0m\u001b[1;33m[\u001b[0m\u001b[1;34m'valid_objective'\u001b[0m\u001b[1;33m]\u001b[0m\u001b[1;33m.\u001b[0m\u001b[0mval_record\u001b[0m\u001b[1;33m)\u001b[0m\u001b[1;33m\u001b[0m\u001b[0m\n",
        "\u001b[1;31mIOError\u001b[0m: [Errno 2] No such file or directory: '104/progress16-0.03.pkl'"
       ]
      },
      {
       "output_type": "stream",
       "stream": "stdout",
       "text": [
        "Populating the interactive namespace from numpy and matplotlib\n"
       ]
      },
      {
       "output_type": "stream",
       "stream": "stderr",
       "text": [
        "WARNING: pylab import has clobbered these variables: ['plt']\n",
        "`%pylab --no-import-all` prevents importing * from pylab and numpy\n"
       ]
      }
     ],
     "prompt_number": 286
    },
    {
     "cell_type": "code",
     "collapsed": false,
     "input": [
      "import pylearn2\n",
      "import theano\n",
      "import cPickle\n",
      "\n",
      "def sig_digits( x, digits ):\n",
      "    a = round(numpy.log10( x )-digits+1)\n",
      "    return round( x / 10**round(a ))*10**a\n",
      "\n",
      "\n",
      "def html_table( tbl ):\n",
      "    s = \"<table>\"\n",
      "    maxwidth = max( map( len, tbl) )\n",
      "    for row in tbl:\n",
      "        if len(row)==1:\n",
      "            s += \"<tr><td colspan=%d>\" % maxwidth\n",
      "            s += row[0]\n",
      "            s += \"</td></tr>\"\n",
      "        else:\n",
      "            s += \"<tr><td>\" + \"</td><td>\".join( row ) + \"</td></tr>\"\n",
      "    s += \"</table>\"\n",
      "    return s\n",
      "\n",
      "for speaker in [104]:#144,169,179]:\n",
      "    tbl = [[\"\",\"3\",\"1\",\"0.3\",\"0.1\",\"0.03\",\"0.01\",\"0.003\",\"0.001\",\"0.0003\",\"0.0001\"]]\n",
      "    for model in [2,9,13,14,16,21,22,28,29]:        \n",
      "        row = [ str(model) ]\n",
      "        for trainingrate in [\"3\",\"1\",\"0.3\",\"0.1\",\"0.03\",\"0.01\",\"0.003\",\"0.001\",\"0.0003\",\"0.0001\"]:\n",
      "            print \"model\",model,\"trainingrate\",trainingrate,\":\",\n",
      "            try:\n",
      "                fp = open( \"%d/best%d-%s.pkl\"%(speaker,model,trainingrate ) )\n",
      "                bestMLP = cPickle.load(open( \"%d/best%d-%s.pkl\"%(speaker,model,trainingrate )) )\n",
      "                fp.close()\n",
      "            except:\n",
      "                bestMLP = None\n",
      "                \n",
      "            if bestMLP==None:\n",
      "                row.append( \"\" )\n",
      "                print \"no model\"\n",
      "            else:                \n",
      "                X = bestMLP.get_input_space().make_batch_theano()\n",
      "                Y = bestMLP.fprop(X)\n",
      "                f = theano.function( [X], Y )                \n",
      "                \n",
      "                fp = open(\"%d/model_spec_%d-%s.yaml\"%(speaker,model,trainingrate ))\n",
      "                model = pylearn2.config.yaml_parse.load(fp)\n",
      "                dataset = model.dataset\n",
      "                validmse = dataset.mse( 'valid', f( dataset.training_set() ) )\n",
      "                validmse = validmse/(dataset.dataset_std()**2)\n",
      "                row.append( str(validmse ) )\n",
      "                print \"MSE:\", validmse\n",
      "                fp.close()\n",
      "                \n",
      "        tbl.append( row )\n",
      "\n",
      "from IPython.display import HTML\n",
      "HTML(html_table(tbl))"
     ],
     "language": "python",
     "metadata": {},
     "outputs": [
      {
       "output_type": "stream",
       "stream": "stdout",
       "text": [
        " model 2 trainingrate 3 : "
       ]
      },
      {
       "output_type": "stream",
       "stream": "stdout",
       "text": [
        "constructing frames 158084\n",
        "Have"
       ]
      },
      {
       "output_type": "stream",
       "stream": "stdout",
       "text": [
        " 6943 examples constructed\n",
        "Have"
       ]
      },
      {
       "ename": "KeyboardInterrupt",
       "evalue": "",
       "output_type": "pyerr",
       "traceback": [
        "\u001b[1;31m---------------------------------------------------------------------------\u001b[0m\n\u001b[1;31mKeyboardInterrupt\u001b[0m                         Traceback (most recent call last)",
        "\u001b[1;32m<ipython-input-5-d1cb818eb654>\u001b[0m in \u001b[0;36m<module>\u001b[1;34m()\u001b[0m\n\u001b[0;32m     43\u001b[0m \u001b[1;33m\u001b[0m\u001b[0m\n\u001b[0;32m     44\u001b[0m                 \u001b[0mfp\u001b[0m \u001b[1;33m=\u001b[0m \u001b[0mopen\u001b[0m\u001b[1;33m(\u001b[0m\u001b[1;34m\"%d/model_spec_%d-%s.yaml\"\u001b[0m\u001b[1;33m%\u001b[0m\u001b[1;33m(\u001b[0m\u001b[0mspeaker\u001b[0m\u001b[1;33m,\u001b[0m\u001b[0mmodel\u001b[0m\u001b[1;33m,\u001b[0m\u001b[0mtrainingrate\u001b[0m \u001b[1;33m)\u001b[0m\u001b[1;33m)\u001b[0m\u001b[1;33m\u001b[0m\u001b[0m\n\u001b[1;32m---> 45\u001b[1;33m                 \u001b[0mmodel\u001b[0m \u001b[1;33m=\u001b[0m \u001b[0mpylearn2\u001b[0m\u001b[1;33m.\u001b[0m\u001b[0mconfig\u001b[0m\u001b[1;33m.\u001b[0m\u001b[0myaml_parse\u001b[0m\u001b[1;33m.\u001b[0m\u001b[0mload\u001b[0m\u001b[1;33m(\u001b[0m\u001b[0mfp\u001b[0m\u001b[1;33m)\u001b[0m\u001b[1;33m\u001b[0m\u001b[0m\n\u001b[0m\u001b[0;32m     46\u001b[0m                 \u001b[0mdataset\u001b[0m \u001b[1;33m=\u001b[0m \u001b[0mmodel\u001b[0m\u001b[1;33m.\u001b[0m\u001b[0mdataset\u001b[0m\u001b[1;33m\u001b[0m\u001b[0m\n\u001b[0;32m     47\u001b[0m                 \u001b[0mvalidmse\u001b[0m \u001b[1;33m=\u001b[0m \u001b[0mdataset\u001b[0m\u001b[1;33m.\u001b[0m\u001b[0mmse\u001b[0m\u001b[1;33m(\u001b[0m \u001b[1;34m'valid'\u001b[0m\u001b[1;33m,\u001b[0m \u001b[0mf\u001b[0m\u001b[1;33m(\u001b[0m \u001b[0mdataset\u001b[0m\u001b[1;33m.\u001b[0m\u001b[0mtraining_set\u001b[0m\u001b[1;33m(\u001b[0m\u001b[1;33m)\u001b[0m \u001b[1;33m)\u001b[0m \u001b[1;33m)\u001b[0m\u001b[1;33m\u001b[0m\u001b[0m\n",
        "\u001b[1;32m/home/belius/NOBACKUP_HOME/lib/python2.6/site-packages/pylearn2-0.1dev-py2.6.egg/pylearn2/config/yaml_parse.pyc\u001b[0m in \u001b[0;36mload\u001b[1;34m(stream, overrides, environ, **kwargs)\u001b[0m\n\u001b[0;32m     57\u001b[0m                       \"be removed on or after June 8, 2014.\")\n\u001b[0;32m     58\u001b[0m         \u001b[0mhandle_overrides\u001b[0m\u001b[1;33m(\u001b[0m\u001b[0mproxy_graph\u001b[0m\u001b[1;33m,\u001b[0m \u001b[0moverrides\u001b[0m\u001b[1;33m)\u001b[0m\u001b[1;33m\u001b[0m\u001b[0m\n\u001b[1;32m---> 59\u001b[1;33m     \u001b[1;32mreturn\u001b[0m \u001b[0minstantiate_all\u001b[0m\u001b[1;33m(\u001b[0m\u001b[0mproxy_graph\u001b[0m\u001b[1;33m)\u001b[0m\u001b[1;33m\u001b[0m\u001b[0m\n\u001b[0m\u001b[0;32m     60\u001b[0m \u001b[1;33m\u001b[0m\u001b[0m\n\u001b[0;32m     61\u001b[0m \u001b[1;33m\u001b[0m\u001b[0m\n",
        "\u001b[1;32m/home/belius/NOBACKUP_HOME/lib/python2.6/site-packages/pylearn2-0.1dev-py2.6.egg/pylearn2/config/yaml_parse.pyc\u001b[0m in \u001b[0;36minstantiate_all\u001b[1;34m(graph)\u001b[0m\n\u001b[0;32m    149\u001b[0m         \u001b[1;32mfor\u001b[0m \u001b[0mkey\u001b[0m \u001b[1;32min\u001b[0m \u001b[0mgraph\u001b[0m\u001b[1;33m:\u001b[0m\u001b[1;33m\u001b[0m\u001b[0m\n\u001b[0;32m    150\u001b[0m             \u001b[1;32mif\u001b[0m \u001b[0mshould_instantiate\u001b[0m\u001b[1;33m(\u001b[0m\u001b[0mgraph\u001b[0m\u001b[1;33m[\u001b[0m\u001b[0mkey\u001b[0m\u001b[1;33m]\u001b[0m\u001b[1;33m)\u001b[0m\u001b[1;33m:\u001b[0m\u001b[1;33m\u001b[0m\u001b[0m\n\u001b[1;32m--> 151\u001b[1;33m                 \u001b[0mgraph\u001b[0m\u001b[1;33m[\u001b[0m\u001b[0mkey\u001b[0m\u001b[1;33m]\u001b[0m \u001b[1;33m=\u001b[0m \u001b[0minstantiate_all\u001b[0m\u001b[1;33m(\u001b[0m\u001b[0mgraph\u001b[0m\u001b[1;33m[\u001b[0m\u001b[0mkey\u001b[0m\u001b[1;33m]\u001b[0m\u001b[1;33m)\u001b[0m\u001b[1;33m\u001b[0m\u001b[0m\n\u001b[0m\u001b[0;32m    152\u001b[0m         \u001b[1;32mif\u001b[0m \u001b[0mhasattr\u001b[0m\u001b[1;33m(\u001b[0m\u001b[0mgraph\u001b[0m\u001b[1;33m,\u001b[0m \u001b[1;34m'keys'\u001b[0m\u001b[1;33m)\u001b[0m\u001b[1;33m:\u001b[0m\u001b[1;33m\u001b[0m\u001b[0m\n\u001b[0;32m    153\u001b[0m             \u001b[1;32mfor\u001b[0m \u001b[0mkey\u001b[0m \u001b[1;32min\u001b[0m \u001b[0mgraph\u001b[0m\u001b[1;33m.\u001b[0m\u001b[0mkeys\u001b[0m\u001b[1;33m(\u001b[0m\u001b[1;33m)\u001b[0m\u001b[1;33m:\u001b[0m\u001b[1;33m\u001b[0m\u001b[0m\n",
        "\u001b[1;32m/home/belius/NOBACKUP_HOME/lib/python2.6/site-packages/pylearn2-0.1dev-py2.6.egg/pylearn2/config/yaml_parse.pyc\u001b[0m in \u001b[0;36minstantiate_all\u001b[1;34m(graph)\u001b[0m\n\u001b[0;32m    149\u001b[0m         \u001b[1;32mfor\u001b[0m \u001b[0mkey\u001b[0m \u001b[1;32min\u001b[0m \u001b[0mgraph\u001b[0m\u001b[1;33m:\u001b[0m\u001b[1;33m\u001b[0m\u001b[0m\n\u001b[0;32m    150\u001b[0m             \u001b[1;32mif\u001b[0m \u001b[0mshould_instantiate\u001b[0m\u001b[1;33m(\u001b[0m\u001b[0mgraph\u001b[0m\u001b[1;33m[\u001b[0m\u001b[0mkey\u001b[0m\u001b[1;33m]\u001b[0m\u001b[1;33m)\u001b[0m\u001b[1;33m:\u001b[0m\u001b[1;33m\u001b[0m\u001b[0m\n\u001b[1;32m--> 151\u001b[1;33m                 \u001b[0mgraph\u001b[0m\u001b[1;33m[\u001b[0m\u001b[0mkey\u001b[0m\u001b[1;33m]\u001b[0m \u001b[1;33m=\u001b[0m \u001b[0minstantiate_all\u001b[0m\u001b[1;33m(\u001b[0m\u001b[0mgraph\u001b[0m\u001b[1;33m[\u001b[0m\u001b[0mkey\u001b[0m\u001b[1;33m]\u001b[0m\u001b[1;33m)\u001b[0m\u001b[1;33m\u001b[0m\u001b[0m\n\u001b[0m\u001b[0;32m    152\u001b[0m         \u001b[1;32mif\u001b[0m \u001b[0mhasattr\u001b[0m\u001b[1;33m(\u001b[0m\u001b[0mgraph\u001b[0m\u001b[1;33m,\u001b[0m \u001b[1;34m'keys'\u001b[0m\u001b[1;33m)\u001b[0m\u001b[1;33m:\u001b[0m\u001b[1;33m\u001b[0m\u001b[0m\n\u001b[0;32m    153\u001b[0m             \u001b[1;32mfor\u001b[0m \u001b[0mkey\u001b[0m \u001b[1;32min\u001b[0m \u001b[0mgraph\u001b[0m\u001b[1;33m.\u001b[0m\u001b[0mkeys\u001b[0m\u001b[1;33m(\u001b[0m\u001b[1;33m)\u001b[0m\u001b[1;33m:\u001b[0m\u001b[1;33m\u001b[0m\u001b[0m\n",
        "\u001b[1;32m/home/belius/NOBACKUP_HOME/lib/python2.6/site-packages/pylearn2-0.1dev-py2.6.egg/pylearn2/config/yaml_parse.pyc\u001b[0m in \u001b[0;36minstantiate_all\u001b[1;34m(graph)\u001b[0m\n\u001b[0;32m    149\u001b[0m         \u001b[1;32mfor\u001b[0m \u001b[0mkey\u001b[0m \u001b[1;32min\u001b[0m \u001b[0mgraph\u001b[0m\u001b[1;33m:\u001b[0m\u001b[1;33m\u001b[0m\u001b[0m\n\u001b[0;32m    150\u001b[0m             \u001b[1;32mif\u001b[0m \u001b[0mshould_instantiate\u001b[0m\u001b[1;33m(\u001b[0m\u001b[0mgraph\u001b[0m\u001b[1;33m[\u001b[0m\u001b[0mkey\u001b[0m\u001b[1;33m]\u001b[0m\u001b[1;33m)\u001b[0m\u001b[1;33m:\u001b[0m\u001b[1;33m\u001b[0m\u001b[0m\n\u001b[1;32m--> 151\u001b[1;33m                 \u001b[0mgraph\u001b[0m\u001b[1;33m[\u001b[0m\u001b[0mkey\u001b[0m\u001b[1;33m]\u001b[0m \u001b[1;33m=\u001b[0m \u001b[0minstantiate_all\u001b[0m\u001b[1;33m(\u001b[0m\u001b[0mgraph\u001b[0m\u001b[1;33m[\u001b[0m\u001b[0mkey\u001b[0m\u001b[1;33m]\u001b[0m\u001b[1;33m)\u001b[0m\u001b[1;33m\u001b[0m\u001b[0m\n\u001b[0m\u001b[0;32m    152\u001b[0m         \u001b[1;32mif\u001b[0m \u001b[0mhasattr\u001b[0m\u001b[1;33m(\u001b[0m\u001b[0mgraph\u001b[0m\u001b[1;33m,\u001b[0m \u001b[1;34m'keys'\u001b[0m\u001b[1;33m)\u001b[0m\u001b[1;33m:\u001b[0m\u001b[1;33m\u001b[0m\u001b[0m\n\u001b[0;32m    153\u001b[0m             \u001b[1;32mfor\u001b[0m \u001b[0mkey\u001b[0m \u001b[1;32min\u001b[0m \u001b[0mgraph\u001b[0m\u001b[1;33m.\u001b[0m\u001b[0mkeys\u001b[0m\u001b[1;33m(\u001b[0m\u001b[1;33m)\u001b[0m\u001b[1;33m:\u001b[0m\u001b[1;33m\u001b[0m\u001b[0m\n",
        "\u001b[1;32m/home/belius/NOBACKUP_HOME/lib/python2.6/site-packages/pylearn2-0.1dev-py2.6.egg/pylearn2/config/yaml_parse.pyc\u001b[0m in \u001b[0;36minstantiate_all\u001b[1;34m(graph)\u001b[0m\n\u001b[0;32m    158\u001b[0m \u001b[1;33m\u001b[0m\u001b[0m\n\u001b[0;32m    159\u001b[0m     \u001b[1;32mif\u001b[0m \u001b[0misinstance\u001b[0m\u001b[1;33m(\u001b[0m\u001b[0mgraph\u001b[0m\u001b[1;33m,\u001b[0m \u001b[0mObjectProxy\u001b[0m\u001b[1;33m)\u001b[0m\u001b[1;33m:\u001b[0m\u001b[1;33m\u001b[0m\u001b[0m\n\u001b[1;32m--> 160\u001b[1;33m         \u001b[0mgraph\u001b[0m \u001b[1;33m=\u001b[0m \u001b[0mgraph\u001b[0m\u001b[1;33m.\u001b[0m\u001b[0minstantiate\u001b[0m\u001b[1;33m(\u001b[0m\u001b[1;33m)\u001b[0m\u001b[1;33m\u001b[0m\u001b[0m\n\u001b[0m\u001b[0;32m    161\u001b[0m \u001b[1;33m\u001b[0m\u001b[0m\n\u001b[0;32m    162\u001b[0m     \u001b[1;32mif\u001b[0m \u001b[0misinstance\u001b[0m\u001b[1;33m(\u001b[0m\u001b[0mgraph\u001b[0m\u001b[1;33m,\u001b[0m \u001b[0mlist\u001b[0m\u001b[1;33m)\u001b[0m\u001b[1;33m:\u001b[0m\u001b[1;33m\u001b[0m\u001b[0m\n",
        "\u001b[1;32m/home/belius/NOBACKUP_HOME/lib/python2.6/site-packages/pylearn2-0.1dev-py2.6.egg/pylearn2/config/yaml_parse.pyc\u001b[0m in \u001b[0;36minstantiate\u001b[1;34m(self)\u001b[0m\n\u001b[0;32m    222\u001b[0m         \"\"\"\n\u001b[0;32m    223\u001b[0m         \u001b[1;32mif\u001b[0m \u001b[0mself\u001b[0m\u001b[1;33m.\u001b[0m\u001b[0minstance\u001b[0m \u001b[1;32mis\u001b[0m \u001b[0mNone\u001b[0m\u001b[1;33m:\u001b[0m\u001b[1;33m\u001b[0m\u001b[0m\n\u001b[1;32m--> 224\u001b[1;33m             \u001b[0mself\u001b[0m\u001b[1;33m.\u001b[0m\u001b[0minstance\u001b[0m \u001b[1;33m=\u001b[0m \u001b[0mchecked_call\u001b[0m\u001b[1;33m(\u001b[0m\u001b[0mself\u001b[0m\u001b[1;33m.\u001b[0m\u001b[0mcls\u001b[0m\u001b[1;33m,\u001b[0m \u001b[0mself\u001b[0m\u001b[1;33m.\u001b[0m\u001b[0mkwds\u001b[0m\u001b[1;33m)\u001b[0m\u001b[1;33m\u001b[0m\u001b[0m\n\u001b[0m\u001b[0;32m    225\u001b[0m         \u001b[1;31m#endif\u001b[0m\u001b[1;33m\u001b[0m\u001b[1;33m\u001b[0m\u001b[0m\n\u001b[0;32m    226\u001b[0m         \u001b[1;32mtry\u001b[0m\u001b[1;33m:\u001b[0m\u001b[1;33m\u001b[0m\u001b[0m\n",
        "\u001b[1;32m/home/belius/NOBACKUP_HOME/lib/python2.6/site-packages/pylearn2-0.1dev-py2.6.egg/pylearn2/utils/call_check.pyc\u001b[0m in \u001b[0;36mchecked_call\u001b[1;34m(to_call, kwargs)\u001b[0m\n\u001b[0;32m     96\u001b[0m     \"\"\"\n\u001b[0;32m     97\u001b[0m     \u001b[1;32mtry\u001b[0m\u001b[1;33m:\u001b[0m\u001b[1;33m\u001b[0m\u001b[0m\n\u001b[1;32m---> 98\u001b[1;33m         \u001b[1;32mreturn\u001b[0m \u001b[0mto_call\u001b[0m\u001b[1;33m(\u001b[0m\u001b[1;33m**\u001b[0m\u001b[0mkwargs\u001b[0m\u001b[1;33m)\u001b[0m\u001b[1;33m\u001b[0m\u001b[0m\n\u001b[0m\u001b[0;32m     99\u001b[0m     \u001b[1;32mexcept\u001b[0m \u001b[0mTypeError\u001b[0m\u001b[1;33m:\u001b[0m\u001b[1;33m\u001b[0m\u001b[0m\n\u001b[0;32m    100\u001b[0m         \u001b[0mcheck_call_arguments\u001b[0m\u001b[1;33m(\u001b[0m\u001b[0mto_call\u001b[0m\u001b[1;33m,\u001b[0m \u001b[0mkwargs\u001b[0m\u001b[1;33m)\u001b[0m\u001b[1;33m\u001b[0m\u001b[0m\n",
        "\u001b[1;32m/nobackup_home/belius/Dropbox/matematik/educate thyself/UdeMDLCourse/synthesis_1_MLP/learn_one_phone_one_speaker_timit_train_longer/timit_data.pyc\u001b[0m in \u001b[0;36m__init__\u001b[1;34m(self, xsamples, ysamples, rescale, phone, num_examples, train_valid_split, trainorvalid, seed, speaker_id, speaker_info)\u001b[0m\n\u001b[0;32m     30\u001b[0m                 \u001b[1;32mprint\u001b[0m \u001b[1;34m\"Have\"\u001b[0m\u001b[1;33m,\u001b[0m\u001b[0mexample_idx\u001b[0m\u001b[1;33m,\u001b[0m\u001b[1;34m\"examples constructed\"\u001b[0m\u001b[1;33m\u001b[0m\u001b[0m\n\u001b[0;32m     31\u001b[0m             \u001b[1;32mif\u001b[0m \u001b[0mtrain\u001b[0m\u001b[1;33m.\u001b[0m\u001b[0mphoneme_idx_to_phoneme_str\u001b[0m\u001b[1;33m(\u001b[0m\u001b[0midx\u001b[0m\u001b[1;33m)\u001b[0m\u001b[1;33m==\u001b[0m\u001b[0mphone\u001b[0m\u001b[1;33m:\u001b[0m\u001b[1;33m\u001b[0m\u001b[0m\n\u001b[1;32m---> 32\u001b[1;33m                 \u001b[0msent_idx\u001b[0m \u001b[1;33m=\u001b[0m \u001b[0mtrain\u001b[0m\u001b[1;33m.\u001b[0m\u001b[0mphoneme_idx_to_sentence_idx\u001b[0m\u001b[1;33m(\u001b[0m\u001b[0midx\u001b[0m\u001b[1;33m)\u001b[0m\u001b[1;33m\u001b[0m\u001b[0m\n\u001b[0m\u001b[0;32m     33\u001b[0m                 \u001b[1;32mif\u001b[0m \u001b[0mtrain\u001b[0m\u001b[1;33m.\u001b[0m\u001b[0mspkr\u001b[0m\u001b[1;33m[\u001b[0m\u001b[0msent_idx\u001b[0m\u001b[1;33m]\u001b[0m\u001b[1;33m==\u001b[0m\u001b[0mspeaker_id\u001b[0m \u001b[1;32mor\u001b[0m \u001b[0mspeaker_id\u001b[0m\u001b[1;33m==\u001b[0m\u001b[0mNone\u001b[0m\u001b[1;33m:\u001b[0m\u001b[1;33m\u001b[0m\u001b[0m\n\u001b[0;32m     34\u001b[0m                     \u001b[0mstart\u001b[0m\u001b[1;33m,\u001b[0m \u001b[0mend\u001b[0m \u001b[1;33m=\u001b[0m \u001b[0mtrain\u001b[0m\u001b[1;33m.\u001b[0m\u001b[0mphoneme_idx_to_offsets\u001b[0m\u001b[1;33m(\u001b[0m\u001b[0midx\u001b[0m\u001b[1;33m)\u001b[0m\u001b[1;33m\u001b[0m\u001b[0m\n",
        "\u001b[1;32m/nobackup_home/belius/Dropbox/matematik/educate thyself/UdeMDLCourse/synthesis_1_MLP/learn_one_phone_one_speaker_timit_train_longer/load_data.pyc\u001b[0m in \u001b[0;36mphoneme_idx_to_sentence_idx\u001b[1;34m(self, idx)\u001b[0m\n\u001b[0;32m     76\u001b[0m \u001b[1;33m\u001b[0m\u001b[0m\n\u001b[0;32m     77\u001b[0m         \u001b[1;32mdef\u001b[0m \u001b[0mphoneme_idx_to_sentence_idx\u001b[0m\u001b[1;33m(\u001b[0m\u001b[0mself\u001b[0m\u001b[1;33m,\u001b[0m\u001b[0midx\u001b[0m\u001b[1;33m)\u001b[0m\u001b[1;33m:\u001b[0m \u001b[1;31m# In which setence does this recording of a phoneme occur\u001b[0m\u001b[1;33m\u001b[0m\u001b[0m\n\u001b[1;32m---> 78\u001b[1;33m                 \u001b[1;32mreturn\u001b[0m \u001b[1;33m[\u001b[0m\u001b[0mi\u001b[0m \u001b[1;32mfor\u001b[0m \u001b[0mi\u001b[0m\u001b[1;33m,\u001b[0m \u001b[0moff\u001b[0m \u001b[1;32min\u001b[0m \u001b[0menumerate\u001b[0m\u001b[1;33m(\u001b[0m \u001b[0mself\u001b[0m\u001b[1;33m.\u001b[0m\u001b[0mseq_to_phn\u001b[0m \u001b[1;33m)\u001b[0m \u001b[1;32mif\u001b[0m \u001b[0moff\u001b[0m\u001b[1;33m[\u001b[0m\u001b[1;36m0\u001b[0m\u001b[1;33m]\u001b[0m \u001b[1;33m<=\u001b[0m\u001b[0midx\u001b[0m \u001b[1;33m<\u001b[0m \u001b[0moff\u001b[0m\u001b[1;33m[\u001b[0m\u001b[1;36m1\u001b[0m\u001b[1;33m]\u001b[0m \u001b[1;33m]\u001b[0m\u001b[1;33m[\u001b[0m\u001b[1;36m0\u001b[0m\u001b[1;33m]\u001b[0m\u001b[1;33m\u001b[0m\u001b[0m\n\u001b[0m\u001b[0;32m     79\u001b[0m \u001b[1;31m#               return find( map( lambda x: x[0]<=idx<x[1], self.seq_to_phn ) )[0]\u001b[0m\u001b[1;33m\u001b[0m\u001b[1;33m\u001b[0m\u001b[0m\n\u001b[0;32m     80\u001b[0m \u001b[1;33m\u001b[0m\u001b[0m\n",
        "\u001b[1;31mKeyboardInterrupt\u001b[0m: "
       ]
      },
      {
       "output_type": "stream",
       "stream": "stdout",
       "text": [
        " 6943 examples constructed\n"
       ]
      },
      {
       "output_type": "stream",
       "stream": "stderr",
       "text": [
        "/home/belius/NOBACKUP_HOME/lib/python2.6/site-packages/pylearn2-0.1dev-py2.6.egg/pylearn2/models/mlp.py:39: UserWarning: MLP changing the recursion limit.\n",
        "  warnings.warn(\"MLP changing the recursion limit.\")\n"
       ]
      }
     ],
     "prompt_number": 5
    },
    {
     "cell_type": "code",
     "collapsed": false,
     "input": [],
     "language": "python",
     "metadata": {},
     "outputs": [],
     "prompt_number": 45
    },
    {
     "cell_type": "code",
     "collapsed": false,
     "input": [
      "import pylearn2\n",
      "\n",
      "fp = open('104/model_spec_2.yaml')\n",
      "model = pylearn2.config.yaml_parse.load(fp)\n",
      "print model\n",
      "fp.close()"
     ],
     "language": "python",
     "metadata": {},
     "outputs": [
      {
       "output_type": "stream",
       "stream": "stdout",
       "text": [
        "constructing frames 158084\n",
        "Have"
       ]
      },
      {
       "output_type": "stream",
       "stream": "stdout",
       "text": [
        " 6943 examples constructed\n",
        "Have"
       ]
      },
      {
       "output_type": "stream",
       "stream": "stdout",
       "text": [
        " 6943 examples constructed\n",
        "Done constructing"
       ]
      },
      {
       "output_type": "stream",
       "stream": "stdout",
       "text": [
        " 6942 examples\n",
        "constructing frames 158084\n",
        "Have"
       ]
      },
      {
       "output_type": "stream",
       "stream": "stdout",
       "text": [
        " 6943 examples constructed\n",
        "Have"
       ]
      },
      {
       "output_type": "stream",
       "stream": "stdout",
       "text": [
        " 6943 examples constructed\n",
        "Done constructing"
       ]
      },
      {
       "output_type": "stream",
       "stream": "stdout",
       "text": [
        " 6942 examples\n",
        "<pylearn2.train.Train object at 0x95617d0>\n"
       ]
      },
      {
       "output_type": "stream",
       "stream": "stderr",
       "text": [
        "/home/belius/NOBACKUP_HOME/lib/python2.6/site-packages/pylearn2-0.1dev-py2.6.egg/pylearn2/training_algorithms/sgd.py:121: UserWarning: init_momentum interface is deprecated and will become officially unsuported as of May 9, 2014. Please use the `learning_rule` parameter instead, providing an object of type `pylearn2.training_algorithms.learning_rule.Momentum` instead\n",
        "  warnings.warn(\"init_momentum interface is deprecated and will \"\n",
        "/home/belius/NOBACKUP_HOME/lib/python2.6/site-packages/pylearn2-0.1dev-py2.6.egg/pylearn2/training_algorithms/sgd.py:741: UserWarning: sgd.MomentumAdjustor interface is deprecated and will become officially unsuported as of May 9, 2014. Please use `learning_rule.MomentumAdjustor` instead.\n",
        "  warnings.warn(\"sgd.MomentumAdjustor interface is deprecated and will \"\n"
       ]
      }
     ],
     "prompt_number": 56
    },
    {
     "cell_type": "code",
     "collapsed": false,
     "input": [],
     "language": "python",
     "metadata": {},
     "outputs": [
      {
       "metadata": {},
       "output_type": "pyout",
       "prompt_number": 62,
       "text": [
        "array([[-0.18863748, -0.09837678, -0.14928677, ..., -0.05632071,\n",
        "        -0.01032956,  0.04549926],\n",
        "       [-0.09837678, -0.14928677, -0.30496803, ..., -0.01032956,\n",
        "         0.04549926,  0.06886375],\n",
        "       [-0.14928677, -0.30496803, -0.31480571, ...,  0.04549926,\n",
        "         0.06886375,  0.02705362],\n",
        "       ..., \n",
        "       [-0.29931136, -0.32636498, -0.36768323, ...,  0.01869159,\n",
        "        -0.09985243, -0.15076242],\n",
        "       [-0.32636498, -0.36768323, -0.32365962, ..., -0.09985243,\n",
        "        -0.15076242, -0.13969503],\n",
        "       [-0.36768323, -0.32365962, -0.23290703, ..., -0.15076242,\n",
        "        -0.13969503,  0.07747172]])"
       ]
      }
     ],
     "prompt_number": 62
    },
    {
     "cell_type": "code",
     "collapsed": false,
     "input": [],
     "language": "python",
     "metadata": {},
     "outputs": []
    }
   ],
   "metadata": {}
  }
 ]
}