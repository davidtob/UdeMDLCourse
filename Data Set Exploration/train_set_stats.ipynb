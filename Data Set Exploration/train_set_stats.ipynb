{
 "metadata": {
  "name": ""
 },
 "nbformat": 3,
 "nbformat_minor": 0,
 "worksheets": [
  {
   "cells": [
    {
     "cell_type": "code",
     "collapsed": false,
     "input": [
      "%pylab --no-import-all inline\n",
      "execfile('load_data.py')"
     ],
     "language": "python",
     "metadata": {},
     "outputs": [
      {
       "output_type": "stream",
       "stream": "stdout",
       "text": [
        "Populating the interactive namespace from numpy and matplotlib\n"
       ]
      }
     ],
     "prompt_number": 158
    },
    {
     "cell_type": "code",
     "collapsed": false,
     "input": [
      "from IPython.display import HTML\n",
      "def html_table( tbl ):\n",
      "    s = \"<table>\"\n",
      "    maxwidth = max( map( len, tbl) )\n",
      "    for row in tbl:\n",
      "        if len(row)==1:\n",
      "            s += \"<tr><td colspan=%d>\" % maxwidth\n",
      "            s += row[0]\n",
      "            s += \"</td></tr>\"\n",
      "        else:\n",
      "            s += \"<tr><td>\" + \"</td><td>\".join( row ) + \"</td></tr>\"\n",
      "    s += \"</table>\"\n",
      "    return s"
     ],
     "language": "python",
     "metadata": {},
     "outputs": [],
     "prompt_number": 137
    },
    {
     "cell_type": "code",
     "collapsed": false,
     "input": [
      "# Basic info\n",
      "tbl = [ [ 'Set',      'Spoken sentences', 'Spoken phonemes', 'Speakers' ] ]\n",
      "\n",
      "for desc, data in zip( ('Training', 'Validation', 'Test'), (train,valid,test) ):\n",
      "    tbl.append( [ 'Training', str(data.number_of_recorded_sentences()),\n",
      "                              str(data.number_of_recorded_phonemes()),\n",
      "                              str(data.number_of_distinct_speakers()) ] )\n",
      "assert( len(np.intersect1d( train.spkr, test.spkr))==0 )\n",
      "assert( len(np.intersect1d( valid.spkr, test.spkr))==0 )\n",
      "assert( len(np.intersect1d( train.spkr, valid.spkr))==0 )\n",
      "tbl.append( [ 'Train, valid and test set have no speakers in common' ] )\n",
      "HTML( html_table( tbl ) )\n",
      "\n",
      "\n"
     ],
     "language": "python",
     "metadata": {},
     "outputs": [
      {
       "html": [
        "<table><tr><td>Set</td><td>Spoken sentences</td><td>Spoken phonemes</td><td>Speakers</td></tr><tr><td>Training</td><td>4120</td><td>158084</td><td>4120</td></tr><tr><td>Training</td><td>500</td><td>18996</td><td>500</td></tr><tr><td>Training</td><td>1680</td><td>64145</td><td>1680</td></tr><tr><td colspan=4>Train, valid and test set have no speakers in common</td></tr></table>"
       ],
       "metadata": {},
       "output_type": "pyout",
       "prompt_number": 138,
       "text": [
        "<IPython.core.display.HTML at 0x435b2050>"
       ]
      }
     ],
     "prompt_number": 138
    },
    {
     "cell_type": "code",
     "collapsed": false,
     "input": [
      "# List of all phonemes\n",
      "s = \"\"\"<table>\"\"\"\n",
      "s += \"<tr><td colspan=31>List of all \" + str(len(phonemes)) + \" phonemes</td></tr>\"\n",
      "s += \"<tr><td>\" + \"</td><td>\".join( phonemes[0:30] ) + \"</td></tr>\"\n",
      "s += \"<tr><td>\" + \"</td><td>\".join( phonemes[30:-1] ) + \"</td></tr>\"\n",
      "HTML(s)"
     ],
     "language": "python",
     "metadata": {},
     "outputs": [
      {
       "html": [
        "<table><tr><td colspan=31>List of all 61 phonemes</td></tr><tr><td>iy</td><td>ch</td><td>el</td><td>tcl</td><td>h#</td><td>pcl</td><td>bcl</td><td>zh</td><td>th</td><td>dh</td><td>kcl</td><td>hv</td><td>hh</td><td>dx</td><td>ax-h</td><td>em</td><td>d</td><td>b</td><td>ux</td><td>f</td><td>uw</td><td>l</td><td>n</td><td>p</td><td>r</td><td>t</td><td>v</td><td>z</td><td>aa</td><td>ix</td></tr><tr><td>en</td><td>ae</td><td>eh</td><td>ah</td><td>ao</td><td>ih</td><td>ey</td><td>aw</td><td>ay</td><td>ax</td><td>er</td><td>pau</td><td>eng</td><td>gcl</td><td>ng</td><td>nx</td><td>uh</td><td>dcl</td><td>w</td><td>ow</td><td>jh</td><td>axr</td><td>g</td><td>k</td><td>m</td><td>q</td><td>s</td><td>sh</td><td>oy</td><td>epi</td></tr>"
       ],
       "metadata": {},
       "output_type": "pyout",
       "prompt_number": 139,
       "text": [
        "<IPython.core.display.HTML at 0x285aeed0>"
       ]
      }
     ],
     "prompt_number": 139
    },
    {
     "cell_type": "code",
     "collapsed": false,
     "input": [
      "phoneme_num_utterances = []\n",
      "rows = []\n",
      "for i in range(len(phonemes)):\n",
      "    num_utterances = sum(train.phn[:,2]==i)\n",
      "    row = (num_utterances,phonemes[i])\n",
      "    rows.append( row )\n",
      "\n",
      "rows.sort(reverse=True)\n",
      "\n",
      "tbl = [ ['Number of occurences of each phoneme in training set' ] ]\n",
      "tbl.append( ['Phoneme', 'Occurences' ] )\n",
      "tbl = tbl + map( lambda a: [a[1], str(a[0])], rows )\n",
      "HTML( html_table(tbl) )"
     ],
     "language": "python",
     "metadata": {},
     "outputs": [
      {
       "html": [
        "<table><tr><td colspan=2>Number of occurences of each phoneme in training set</td></tr><tr><td>Phoneme</td><td>Occurences</td></tr><tr><td>h#</td><td>8240</td></tr><tr><td>ix</td><td>7731</td></tr><tr><td>s</td><td>6680</td></tr><tr><td>n</td><td>6315</td></tr><tr><td>iy</td><td>6219</td></tr><tr><td>tcl</td><td>5951</td></tr><tr><td>r</td><td>5855</td></tr><tr><td>kcl</td><td>5230</td></tr><tr><td>l</td><td>5160</td></tr><tr><td>ih</td><td>4543</td></tr><tr><td>dcl</td><td>4400</td></tr><tr><td>k</td><td>4338</td></tr><tr><td>t</td><td>3925</td></tr><tr><td>ae</td><td>3571</td></tr><tr><td>m</td><td>3518</td></tr><tr><td>eh</td><td>3448</td></tr><tr><td>z</td><td>3367</td></tr><tr><td>q</td><td>3215</td></tr><tr><td>ax</td><td>3201</td></tr><tr><td>d</td><td>3157</td></tr><tr><td>axr</td><td>3013</td></tr><tr><td>w</td><td>2789</td></tr><tr><td>aa</td><td>2757</td></tr><tr><td>ao</td><td>2650</td></tr><tr><td>dh</td><td>2501</td></tr><tr><td>dx</td><td>2415</td></tr><tr><td>pcl</td><td>2380</td></tr><tr><td>p</td><td>2341</td></tr><tr><td>ay</td><td>2123</td></tr><tr><td>ah</td><td>2049</td></tr><tr><td>ey</td><td>2041</td></tr><tr><td>sh</td><td>2021</td></tr><tr><td>f</td><td>1986</td></tr><tr><td>gcl</td><td>1973</td></tr><tr><td>b</td><td>1930</td></tr><tr><td>ow</td><td>1906</td></tr><tr><td>er</td><td>1808</td></tr><tr><td>g</td><td>1786</td></tr><tr><td>v</td><td>1771</td></tr><tr><td>bcl</td><td>1690</td></tr><tr><td>ux</td><td>1663</td></tr><tr><td>y</td><td>1510</td></tr><tr><td>epi</td><td>1320</td></tr><tr><td>ng</td><td>1186</td></tr><tr><td>jh</td><td>1077</td></tr><tr><td>hv</td><td>1022</td></tr><tr><td>pau</td><td>868</td></tr><tr><td>el</td><td>864</td></tr><tr><td>hh</td><td>854</td></tr><tr><td>nx</td><td>852</td></tr><tr><td>ch</td><td>714</td></tr><tr><td>th</td><td>675</td></tr><tr><td>aw</td><td>643</td></tr><tr><td>en</td><td>639</td></tr><tr><td>oy</td><td>602</td></tr><tr><td>uw</td><td>506</td></tr><tr><td>uh</td><td>483</td></tr><tr><td>ax-h</td><td>343</td></tr><tr><td>zh</td><td>128</td></tr><tr><td>em</td><td>108</td></tr><tr><td>eng</td><td>33</td></tr></table>"
       ],
       "metadata": {},
       "output_type": "pyout",
       "prompt_number": 140,
       "text": [
        "<IPython.core.display.HTML at 0x435b2910>"
       ]
      }
     ],
     "prompt_number": 140
    },
    {
     "cell_type": "code",
     "collapsed": false,
     "input": [
      "import operator\n",
      "def dict_count_add( dic, key ):\n",
      "    if key in dic:\n",
      "        dic[key] = dic[key] + 1\n",
      "    else:\n",
      "        dic[key] = 1\n",
      "\n",
      "\n",
      "output = \"Number of recordings of each sentence:<br>\"\n",
      "counts = {}\n",
      "sorted_counts = {}\n",
      "# Number of unique senences\n",
      "for desc,dataset in (('training set', train), ('validation set', valid), ('test set', test)):\n",
      "    count = {}\n",
      "    for i in range(len(dataset.x_raw)):\n",
      "        s = tuple(dataset.sentence_idx_to_word_nums(i))   \n",
      "        dict_count_add( count, s )\n",
      "    tbl = [ [desc] ]\n",
      "    tbl.append( ['# Sentences that have', '# recordings'] )\n",
      "    for a in range(max(count.values())+1,0,-1):\n",
      "        if sum(array(count.values())==a)!=0:\n",
      "            tbl.append( [ str( sum(array(count.values())==a) ), str(a) ] )\n",
      "    tbl.append( [ str(len(count.values())), '<- total number of unique sentences' ] )\n",
      "    output += html_table(tbl)\n",
      "    sorted_count = sorted(count.iteritems(), key=operator.itemgetter(1),reverse=True)\n",
      "    tbl = [ [\"Two most comment sentences in %s\" % desc ] ]\n",
      "    tbl.append( [\" \".join( word_num_to_word_str(list(sorted_count[0][0]) ) ) ])\n",
      "    tbl.append( [\" \".join( word_num_to_word_str(list(sorted_count[1][0]) ) ) ])\n",
      "    output += html_table(tbl) + \"<br>\"\n",
      "    \n",
      "    counts[dataset] = count\n",
      "    sorted_counts[dataset] = sorted_count\n",
      "\n",
      "\n",
      "assert( len(np.intersect1d(counts[train].keys(),counts[test].keys()))==2 )\n",
      "assert( len(np.intersect1d(counts[valid].keys(),counts[test].keys()))==2 )\n",
      "output += \"(Training+validiation) and test set have only the two \\\"special\\\" sentences in common.<br>\"\n",
      "output += \"Training and validiation sets have a further \"\n",
      "output += str(len(np.intersect1d(counts[train].keys(),counts[valid].keys()))-2) + \" sentences in common\"\n",
      "\n",
      "HTML(output)"
     ],
     "language": "python",
     "metadata": {},
     "outputs": [
      {
       "html": [
        "Number of recordings of each sentence:<br><table><tr><td colspan=2>training set</td></tr><tr><td># Sentences that have</td><td># recordings</td></tr><tr><td>2</td><td>412</td></tr><tr><td>136</td><td>7</td></tr><tr><td>144</td><td>6</td></tr><tr><td>36</td><td>5</td></tr><tr><td>8</td><td>4</td></tr><tr><td>6</td><td>3</td></tr><tr><td>1</td><td>2</td></tr><tr><td>1248</td><td>1</td></tr><tr><td>1581</td><td><- total number of unique sentences</td></tr></table><table><tr><td colspan=1>Two most comment sentences in training set</td></tr><tr><td colspan=1>she had your dark suit in greasy wash water all year</td></tr><tr><td colspan=1>don't ask me to carry an oily rag like that</td></tr></table><br><table><tr><td colspan=2>validation set</td></tr><tr><td># Sentences that have</td><td># recordings</td></tr><tr><td>2</td><td>50</td></tr><tr><td>6</td><td>4</td></tr><tr><td>4</td><td>3</td></tr><tr><td>35</td><td>2</td></tr><tr><td>294</td><td>1</td></tr><tr><td>341</td><td><- total number of unique sentences</td></tr></table><table><tr><td colspan=1>Two most comment sentences in validation set</td></tr><tr><td colspan=1>she had your dark suit in greasy wash water all year</td></tr><tr><td colspan=1>don't ask me to carry an oily rag like that</td></tr></table><br><table><tr><td colspan=2>test set</td></tr><tr><td># Sentences that have</td><td># recordings</td></tr><tr><td>2</td><td>168</td></tr><tr><td>114</td><td>7</td></tr><tr><td>5</td><td>6</td></tr><tr><td>1</td><td>5</td></tr><tr><td>1</td><td>2</td></tr><tr><td>509</td><td>1</td></tr><tr><td>632</td><td><- total number of unique sentences</td></tr></table><table><tr><td colspan=1>Two most comment sentences in test set</td></tr><tr><td colspan=1>she had your dark suit in greasy wash water all year</td></tr><tr><td colspan=1>don't ask me to carry an oily rag like that</td></tr></table><br>(Training+validiation) and test set have only the two \"special\" sentences in common.<br>Training and validiation sets have a further 187 sentences in common"
       ],
       "metadata": {},
       "output_type": "pyout",
       "prompt_number": 162,
       "text": [
        "<IPython.core.display.HTML at 0x4353ef50>"
       ]
      }
     ],
     "prompt_number": 162
    },
    {
     "cell_type": "code",
     "collapsed": false,
     "input": [
      "print \"Number of phonetic variations of 10 most common sentences\"\n",
      "sorted_count = sorted_counts[train]\n",
      "# Count phonetic variations of each sentence\n",
      "for sent_wrds,count in sorted_count[0:10]:\n",
      "    ct_phn = {}\n",
      "    for idx in range(len(train.x_raw)):\n",
      "        if tuple(train.sentence_idx_to_word_nums(idx))==sent_wrds:\n",
      "            phns = tuple(train.sentence_idx_to_phoneme_nums(idx))\n",
      "            dict_count_add( ct_phn, phns )\n",
      "    print len(ct_phn.values()),\"unique phonetic variations out of\",count,\"recordings\"\n",
      "\n",
      "print \"Some phonetic variations of most common sentences\"\n",
      "print \"Sentence:\", \" \".join( word_num_to_word_str(list(sorted_count[0][0])) )\n",
      "to_show = 2;\n",
      "for i in range(len(train.x_raw)):\n",
      "    if tuple(train.sentence_idx_to_word_nums(i))==sorted_count[0][0]:\n",
      "        print \" \".join( train.sentence_idx_to_phoneme_strs(i) )\n",
      "        to_show -= 1\n",
      "        if to_show==0: break"
     ],
     "language": "python",
     "metadata": {},
     "outputs": [
      {
       "output_type": "stream",
       "stream": "stdout",
       "text": [
        "Number of phonetic variations of 10 most common sentences\n",
        "410"
       ]
      },
      {
       "output_type": "stream",
       "stream": "stdout",
       "text": [
        " unique phonetic variations out of 412 recordings\n",
        "400"
       ]
      },
      {
       "output_type": "stream",
       "stream": "stdout",
       "text": [
        " unique phonetic variations out of 412 recordings\n",
        "7"
       ]
      },
      {
       "output_type": "stream",
       "stream": "stdout",
       "text": [
        " unique phonetic variations out of 7 recordings\n",
        "7"
       ]
      },
      {
       "output_type": "stream",
       "stream": "stdout",
       "text": [
        " unique phonetic variations out of 7 recordings\n",
        "7"
       ]
      },
      {
       "output_type": "stream",
       "stream": "stdout",
       "text": [
        " unique phonetic variations out of 7 recordings\n",
        "7"
       ]
      },
      {
       "output_type": "stream",
       "stream": "stdout",
       "text": [
        " unique phonetic variations out of 7 recordings\n",
        "7"
       ]
      },
      {
       "output_type": "stream",
       "stream": "stdout",
       "text": [
        " unique phonetic variations out of 7 recordings\n",
        "7"
       ]
      },
      {
       "output_type": "stream",
       "stream": "stdout",
       "text": [
        " unique phonetic variations out of 7 recordings\n",
        "7"
       ]
      },
      {
       "output_type": "stream",
       "stream": "stdout",
       "text": [
        " unique phonetic variations out of 7 recordings\n",
        "7"
       ]
      },
      {
       "output_type": "stream",
       "stream": "stdout",
       "text": [
        " unique phonetic variations out of 7 recordings\n",
        "Some phonetic variations of most common sentences\n",
        "Sentence: she had your dark suit in greasy wash water all year\n",
        "h# sh iy hv ae dcl jh axr dcl d aa r kcl k s ux dx ix ng gcl g r iy z iy w aa sh epi w ao dx axr q ao l y ih axr h#\n",
        "h# s iy eh dcl d axr dcl d aa r kcl s ux q en gcl g r iy s ix w aa sh epi w ao dx er ao l y ih r h#\n"
       ]
      }
     ],
     "prompt_number": 164
    },
    {
     "cell_type": "code",
     "collapsed": false,
     "input": [
      "# Lengths of phonemes\n",
      "lengths = []\n",
      "phoneme_lengths = {}\n",
      "for phn in phonemes: phoneme_lengths[phn] = []\n",
      "for idx in range(train.number_of_recorded_phonemes()):\n",
      "    phoneme = train.phoneme_idx_to_phoneme_str(idx)\n",
      "    start, end = train.phoneme_idx_to_offsets(idx)\n",
      "    length = (end-start)/16000.0*1000.0 #Count in milliseconds\n",
      "    phoneme_lengths[phoneme].append( length )\n",
      "\n",
      "\n",
      "medians = map( lambda (key,val): (numpy.median(val),key), phoneme_lengths.iteritems() ) \n",
      "medians.sort(reverse=True)\n",
      "\n",
      "import pylab as plt\n",
      "plt.figure( figsize=(30,5) )\n",
      "axis([0, 62, 0, 500 ])\n",
      "plt.boxplot( map( lambda x: phoneme_lengths[x[1]], medians), vert=True )\n",
      "plt.xticks(range(1,62), map( lambda x: x[1], medians) )\n",
      "plt.xlabel('Phoneme')\n",
      "plt.ylabel('Length (ms)')\n",
      "\n",
      "plt.show()"
     ],
     "language": "python",
     "metadata": {},
     "outputs": [
      {
       "metadata": {},
       "output_type": "display_data",
       "png": "[encoded data removed]",
       "text": [
        "<matplotlib.figure.Figure at 0x16da4790>"
       ]
      }
     ],
     "prompt_number": 205
    },
    {
     "cell_type": "code",
     "collapsed": false,
     "input": [],
     "language": "python",
     "metadata": {},
     "outputs": []
    }
   ],
   "metadata": {}
  }
 ]
}